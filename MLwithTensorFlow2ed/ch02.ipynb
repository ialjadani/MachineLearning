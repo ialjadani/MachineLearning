{
 "cells": [
  {
   "cell_type": "code",
   "execution_count": 1,
   "id": "22ba26c7",
   "metadata": {},
   "outputs": [],
   "source": [
    "import numpy as np\n",
    "from random import sample\n",
    "# import tensorflow as tf\n",
    "import tensorflow.compat.v1 as tf\n"
   ]
  },
  {
   "cell_type": "code",
   "execution_count": 2,
   "id": "13a31f74",
   "metadata": {},
   "outputs": [
    {
     "name": "stdout",
     "output_type": "stream",
     "text": [
      "1.15.0\n"
     ]
    }
   ],
   "source": [
    "print(tf.__version__)"
   ]
  },
  {
   "cell_type": "code",
   "execution_count": 3,
   "id": "db214acd",
   "metadata": {},
   "outputs": [],
   "source": [
    "revenue = 0\n",
    "prices = np.random.uniform(0, 10000.0, size=(100))\n",
    "amounts = sample(range(1,101), 100)"
   ]
  },
  {
   "cell_type": "code",
   "execution_count": 4,
   "id": "ba22c735",
   "metadata": {},
   "outputs": [],
   "source": [
    "revenue = np.dot(prices, amounts)"
   ]
  },
  {
   "cell_type": "code",
   "execution_count": 5,
   "id": "271bf2b9",
   "metadata": {},
   "outputs": [],
   "source": [
    "for price, amount in zip(prices, amounts):\n",
    "    revenue += price * amount"
   ]
  },
  {
   "cell_type": "code",
   "execution_count": 6,
   "id": "86b3ec74",
   "metadata": {},
   "outputs": [],
   "source": [
    "revenue2 = np.dot(prices,amounts)"
   ]
  },
  {
   "cell_type": "code",
   "execution_count": 7,
   "id": "c88d980f",
   "metadata": {},
   "outputs": [
    {
     "name": "stdout",
     "output_type": "stream",
     "text": [
      "$55,487,381.31\n",
      "$27,743,690.65\n"
     ]
    }
   ],
   "source": [
    "print('${:,.2f}'.format(revenue))\n",
    "print('${:,.2f}'.format(revenue2))"
   ]
  },
  {
   "cell_type": "code",
   "execution_count": 8,
   "id": "3dd92cd7",
   "metadata": {},
   "outputs": [],
   "source": [
    "m1 = [[1.0, 2.0],\n",
    "      [3.0, 4.0]]"
   ]
  },
  {
   "cell_type": "code",
   "execution_count": 9,
   "id": "097cf5c8",
   "metadata": {},
   "outputs": [],
   "source": [
    "m2 = np.array([[1.0, 2.0],\n",
    "               [3.0, 4.0]], dtype=np.float32)"
   ]
  },
  {
   "cell_type": "code",
   "execution_count": 10,
   "id": "7de81666",
   "metadata": {},
   "outputs": [],
   "source": [
    "m3 = tf.constant([[1.0, 2.0],\n",
    "                  [3.0, 4.0]])"
   ]
  },
  {
   "cell_type": "code",
   "execution_count": 11,
   "id": "e38e628d",
   "metadata": {},
   "outputs": [
    {
     "name": "stdout",
     "output_type": "stream",
     "text": [
      "<class 'list'>\n",
      "<class 'numpy.ndarray'>\n",
      "<class 'tensorflow.python.framework.ops.Tensor'>\n"
     ]
    }
   ],
   "source": [
    "print(type(m1))\n",
    "print(type(m2))\n",
    "print(type(m3))"
   ]
  },
  {
   "cell_type": "code",
   "execution_count": 12,
   "id": "f9bc260d",
   "metadata": {},
   "outputs": [],
   "source": [
    "t1 = tf.convert_to_tensor(m1, dtype=tf.float32)\n",
    "t2 = tf.convert_to_tensor(m2, dtype=tf.float32)\n",
    "t3 = tf.convert_to_tensor(m3, dtype=tf.float32)"
   ]
  },
  {
   "cell_type": "code",
   "execution_count": 13,
   "id": "925edd38",
   "metadata": {},
   "outputs": [
    {
     "name": "stdout",
     "output_type": "stream",
     "text": [
      "<class 'tensorflow.python.framework.ops.Tensor'>\n",
      "<class 'tensorflow.python.framework.ops.Tensor'>\n",
      "<class 'tensorflow.python.framework.ops.Tensor'>\n"
     ]
    }
   ],
   "source": [
    "print(type(t1))\n",
    "print(type(t2))\n",
    "print(type(t3))"
   ]
  },
  {
   "cell_type": "code",
   "execution_count": 14,
   "id": "a4063bad",
   "metadata": {},
   "outputs": [],
   "source": [
    "m1 = tf.constant([[1.,2.]])\n",
    "m2 = tf.constant([[1],[2]])\n",
    "\n",
    "m3 = tf.constant([  [[1,2],\n",
    "                     [3,4],\n",
    "                     [5,6]],\n",
    "                     [[7,8],\n",
    "                     [9,10],\n",
    "                     [11,12]]\n",
    "                    ])"
   ]
  },
  {
   "cell_type": "code",
   "execution_count": 15,
   "id": "61ad13ce",
   "metadata": {},
   "outputs": [
    {
     "name": "stdout",
     "output_type": "stream",
     "text": [
      "Tensor(\"Const_3:0\", shape=(1, 2), dtype=float32)\n"
     ]
    }
   ],
   "source": [
    "print(m1)"
   ]
  },
  {
   "cell_type": "code",
   "execution_count": 16,
   "id": "f7590622",
   "metadata": {},
   "outputs": [
    {
     "name": "stdout",
     "output_type": "stream",
     "text": [
      "Tensor(\"Const_4:0\", shape=(2, 1), dtype=int32)\n"
     ]
    }
   ],
   "source": [
    "print(m2)"
   ]
  },
  {
   "cell_type": "code",
   "execution_count": 17,
   "id": "fec5bb5a",
   "metadata": {},
   "outputs": [
    {
     "name": "stdout",
     "output_type": "stream",
     "text": [
      "Tensor(\"Const_5:0\", shape=(2, 3, 2), dtype=int32)\n"
     ]
    }
   ],
   "source": [
    "print(m3)"
   ]
  },
  {
   "cell_type": "code",
   "execution_count": 18,
   "id": "2c6684cc",
   "metadata": {},
   "outputs": [
    {
     "name": "stdout",
     "output_type": "stream",
     "text": [
      "Tensor(\"Neg:0\", shape=(1, 2), dtype=int32)\n"
     ]
    }
   ],
   "source": [
    "x = tf.constant([[1, 2]])\n",
    "negMatrix = tf.negative(x)\n",
    "print(negMatrix)"
   ]
  },
  {
   "cell_type": "code",
   "execution_count": 19,
   "id": "30d838cc",
   "metadata": {},
   "outputs": [
    {
     "name": "stdout",
     "output_type": "stream",
     "text": [
      "Tensor(\"Neg_1:0\", shape=(1, 2), dtype=float32)\n"
     ]
    }
   ],
   "source": [
    "negMatrix = tf.negative(m1)\n",
    "print(negMatrix)"
   ]
  },
  {
   "cell_type": "code",
   "execution_count": 20,
   "id": "3da6d53f",
   "metadata": {},
   "outputs": [
    {
     "name": "stderr",
     "output_type": "stream",
     "text": [
      "2022-03-04 19:40:54.733847: I tensorflow/core/platform/cpu_feature_guard.cc:145] This TensorFlow binary is optimized with Intel(R) MKL-DNN to use the following CPU instructions in performance critical operations:  SSE4.1 SSE4.2 AVX AVX2 FMA\n",
      "To enable them in non-MKL-DNN operations, rebuild TensorFlow with the appropriate compiler flags.\n",
      "2022-03-04 19:40:54.734062: I tensorflow/core/common_runtime/process_util.cc:115] Creating new thread pool with default inter op setting: 4. Tune using inter_op_parallelism_threads for best performance.\n"
     ]
    }
   ],
   "source": [
    "with tf.Session() as sess:\n",
    "    result = sess.run(negMatrix)"
   ]
  },
  {
   "cell_type": "code",
   "execution_count": 21,
   "id": "0773a7ac",
   "metadata": {},
   "outputs": [
    {
     "name": "stdout",
     "output_type": "stream",
     "text": [
      "[[-1. -2.]]\n"
     ]
    }
   ],
   "source": [
    "print(result)"
   ]
  },
  {
   "cell_type": "code",
   "execution_count": 22,
   "id": "bcd66a06",
   "metadata": {},
   "outputs": [
    {
     "name": "stdout",
     "output_type": "stream",
     "text": [
      "WARNING:tensorflow:From /opt/anaconda3/envs/tf15/lib/python3.7/site-packages/tensorflow_core/python/compat/v2_compat.py:68: disable_resource_variables (from tensorflow.python.ops.variable_scope) is deprecated and will be removed in a future version.\n",
      "Instructions for updating:\n",
      "non-resource variables are not supported in the long term\n"
     ]
    }
   ],
   "source": [
    "tf.disable_v2_behavior()"
   ]
  },
  {
   "cell_type": "code",
   "execution_count": 23,
   "id": "9beb65bd",
   "metadata": {},
   "outputs": [
    {
     "name": "stdout",
     "output_type": "stream",
     "text": [
      "[[-1. -2.]]\n"
     ]
    }
   ],
   "source": [
    "sess = tf.InteractiveSession()\n",
    "x = tf.constant([[1., 2.]])\n",
    "negMatrix = tf.negative(x)\n",
    "result = negMatrix.eval()\n",
    "print(result)\n",
    "sess.close()"
   ]
  },
  {
   "cell_type": "code",
   "execution_count": 24,
   "id": "a430c3d3",
   "metadata": {},
   "outputs": [
    {
     "name": "stdout",
     "output_type": "stream",
     "text": [
      "[[-1. -2.]]\n"
     ]
    }
   ],
   "source": [
    "# import tensorflow as tf\n",
    "import tensorflow.compat.v1 as tf\n",
    "\n",
    "sess = tf.InteractiveSession()\n",
    "x = tf.constant([[1., 2.]])\n",
    "negMatrix = tf.negative(x)\n",
    "result = negMatrix.eval()\n",
    "print(result)\n"
   ]
  },
  {
   "cell_type": "code",
   "execution_count": 25,
   "id": "d0d465a3",
   "metadata": {},
   "outputs": [],
   "source": [
    "sess.close()"
   ]
  },
  {
   "cell_type": "code",
   "execution_count": 26,
   "id": "a18d99ad",
   "metadata": {},
   "outputs": [],
   "source": [
    "# import tensorflow as tf\n",
    "import tensorflow.compat.v1 as tf\n",
    "\n",
    "x = tf.constant([[1., 2.]])\n",
    "negMatrix = tf.negative(x)"
   ]
  },
  {
   "cell_type": "code",
   "execution_count": 27,
   "id": "65f4a9b2",
   "metadata": {},
   "outputs": [
    {
     "name": "stdout",
     "output_type": "stream",
     "text": [
      "Device mapping:\n",
      "\n"
     ]
    },
    {
     "name": "stderr",
     "output_type": "stream",
     "text": [
      "2022-03-04 19:41:01.553121: I tensorflow/core/common_runtime/placer.cc:54] Neg: (Neg): /job:localhost/replica:0/task:0/device:CPU:0\n",
      "2022-03-04 19:41:01.553157: I tensorflow/core/common_runtime/placer.cc:54] Neg_1: (Neg): /job:localhost/replica:0/task:0/device:CPU:0\n",
      "2022-03-04 19:41:01.553176: I tensorflow/core/common_runtime/placer.cc:54] Neg_2: (Neg): /job:localhost/replica:0/task:0/device:CPU:0\n",
      "2022-03-04 19:41:01.553192: I tensorflow/core/common_runtime/placer.cc:54] Neg_3: (Neg): /job:localhost/replica:0/task:0/device:CPU:0\n",
      "2022-03-04 19:41:01.553209: I tensorflow/core/common_runtime/placer.cc:54] Neg_4: (Neg): /job:localhost/replica:0/task:0/device:CPU:0\n",
      "2022-03-04 19:41:01.553227: I tensorflow/core/common_runtime/placer.cc:54] Const: (Const): /job:localhost/replica:0/task:0/device:CPU:0\n",
      "2022-03-04 19:41:01.553245: I tensorflow/core/common_runtime/placer.cc:54] Const_1: (Const): /job:localhost/replica:0/task:0/device:CPU:0\n",
      "2022-03-04 19:41:01.553261: I tensorflow/core/common_runtime/placer.cc:54] Const_2: (Const): /job:localhost/replica:0/task:0/device:CPU:0\n",
      "2022-03-04 19:41:01.553279: I tensorflow/core/common_runtime/placer.cc:54] Const_3: (Const): /job:localhost/replica:0/task:0/device:CPU:0\n",
      "2022-03-04 19:41:01.553298: I tensorflow/core/common_runtime/placer.cc:54] Const_4: (Const): /job:localhost/replica:0/task:0/device:CPU:0\n",
      "2022-03-04 19:41:01.553315: I tensorflow/core/common_runtime/placer.cc:54] Const_5: (Const): /job:localhost/replica:0/task:0/device:CPU:0\n",
      "2022-03-04 19:41:01.553332: I tensorflow/core/common_runtime/placer.cc:54] Const_6: (Const): /job:localhost/replica:0/task:0/device:CPU:0\n",
      "2022-03-04 19:41:01.553349: I tensorflow/core/common_runtime/placer.cc:54] Const_7: (Const): /job:localhost/replica:0/task:0/device:CPU:0\n",
      "2022-03-04 19:41:01.553366: I tensorflow/core/common_runtime/placer.cc:54] Const_8: (Const): /job:localhost/replica:0/task:0/device:CPU:0\n",
      "2022-03-04 19:41:01.553382: I tensorflow/core/common_runtime/placer.cc:54] Const_9: (Const): /job:localhost/replica:0/task:0/device:CPU:0\n"
     ]
    }
   ],
   "source": [
    "with tf.Session(config=tf.ConfigProto(log_device_placement=True)) as sess: \n",
    "    options = tf.RunOptions(output_partition_graphs=True)\n",
    "    metadata = tf.RunMetadata()\n",
    "    result = sess.run(negMatrix,options=options, run_metadata=metadata)\n",
    "    "
   ]
  },
  {
   "cell_type": "code",
   "execution_count": 28,
   "id": "394f31ba",
   "metadata": {},
   "outputs": [
    {
     "name": "stdout",
     "output_type": "stream",
     "text": [
      "[[-1. -2.]]\n"
     ]
    }
   ],
   "source": [
    "print(result)"
   ]
  },
  {
   "cell_type": "code",
   "execution_count": 29,
   "id": "8e14a771",
   "metadata": {},
   "outputs": [
    {
     "name": "stdout",
     "output_type": "stream",
     "text": [
      "[node {\n",
      "  name: \"Neg_4\"\n",
      "  op: \"Const\"\n",
      "  device: \"/job:localhost/replica:0/task:0/device:CPU:0\"\n",
      "  attr {\n",
      "    key: \"dtype\"\n",
      "    value {\n",
      "      type: DT_FLOAT\n",
      "    }\n",
      "  }\n",
      "  attr {\n",
      "    key: \"value\"\n",
      "    value {\n",
      "      tensor {\n",
      "        dtype: DT_FLOAT\n",
      "        tensor_shape {\n",
      "          dim {\n",
      "            size: 1\n",
      "          }\n",
      "          dim {\n",
      "            size: 2\n",
      "          }\n",
      "        }\n",
      "        tensor_content: \"\\000\\000\\200\\277\\000\\000\\000\\300\"\n",
      "      }\n",
      "    }\n",
      "  }\n",
      "  experimental_debug_info {\n",
      "    original_node_names: \"Neg_4\"\n",
      "  }\n",
      "}\n",
      "node {\n",
      "  name: \"_retval_Neg_4_0_0\"\n",
      "  op: \"_Retval\"\n",
      "  input: \"Neg_4\"\n",
      "  device: \"/job:localhost/replica:0/task:0/device:CPU:0\"\n",
      "  attr {\n",
      "    key: \"T\"\n",
      "    value {\n",
      "      type: DT_FLOAT\n",
      "    }\n",
      "  }\n",
      "  attr {\n",
      "    key: \"index\"\n",
      "    value {\n",
      "      i: 0\n",
      "    }\n",
      "  }\n",
      "  experimental_debug_info {\n",
      "    original_node_names: \"_retval_Neg_4_0_0\"\n",
      "  }\n",
      "}\n",
      "library {\n",
      "}\n",
      "versions {\n",
      "  producer: 134\n",
      "}\n",
      "]\n"
     ]
    }
   ],
   "source": [
    "print(metadata.partition_graphs)"
   ]
  },
  {
   "cell_type": "code",
   "execution_count": 34,
   "id": "40279edb",
   "metadata": {},
   "outputs": [
    {
     "name": "stdout",
     "output_type": "stream",
     "text": [
      "Spike False\n",
      "Spike True\n",
      "Spike False\n",
      "Spike False\n",
      "Spike True\n",
      "Spike False\n",
      "Spike True\n"
     ]
    }
   ],
   "source": [
    "tf.disable_eager_execution()\n",
    "sess = tf.InteractiveSession()\n",
    "\n",
    "raw_data = [1., 2., 8., -1., 0., 5.5, 6., 13.]\n",
    "spike = tf.Variable(False)\n",
    "spike.initializer.run()\n",
    "\n",
    "for i in range(1, len(raw_data)):\n",
    "    if raw_data[i] - raw_data[i-1] > 5:\n",
    "        updater = tf.assign(spike, True)\n",
    "        updater.eval()\n",
    "    else:\n",
    "        tf.assign(spike, False).eval()\n",
    "    print(\"Spike\", spike.eval())\n",
    "sess.close()"
   ]
  },
  {
   "cell_type": "code",
   "execution_count": null,
   "id": "a24bbf3c",
   "metadata": {},
   "outputs": [],
   "source": []
  },
  {
   "cell_type": "code",
   "execution_count": 35,
   "id": "93ae0d76",
   "metadata": {},
   "outputs": [],
   "source": [
    "# import tensorflow.compat.v1 as tf\n",
    "# tf.disable_v2_behavior()\n",
    "# tf.enable_eager_execution()"
   ]
  },
  {
   "cell_type": "code",
   "execution_count": 36,
   "id": "6adb07b7",
   "metadata": {},
   "outputs": [
    {
     "ename": "ValueError",
     "evalue": "Parent directory of spikes.ckpt doesn't exist, can't save.",
     "output_type": "error",
     "traceback": [
      "\u001b[0;31m---------------------------------------------------------------------------\u001b[0m",
      "\u001b[0;31mFailedPreconditionError\u001b[0m                   Traceback (most recent call last)",
      "\u001b[0;32m/opt/anaconda3/envs/tf15/lib/python3.7/site-packages/tensorflow_core/python/client/session.py\u001b[0m in \u001b[0;36m_do_call\u001b[0;34m(self, fn, *args)\u001b[0m\n\u001b[1;32m   1364\u001b[0m     \u001b[0;32mtry\u001b[0m\u001b[0;34m:\u001b[0m\u001b[0;34m\u001b[0m\u001b[0;34m\u001b[0m\u001b[0m\n\u001b[0;32m-> 1365\u001b[0;31m       \u001b[0;32mreturn\u001b[0m \u001b[0mfn\u001b[0m\u001b[0;34m(\u001b[0m\u001b[0;34m*\u001b[0m\u001b[0margs\u001b[0m\u001b[0;34m)\u001b[0m\u001b[0;34m\u001b[0m\u001b[0;34m\u001b[0m\u001b[0m\n\u001b[0m\u001b[1;32m   1366\u001b[0m     \u001b[0;32mexcept\u001b[0m \u001b[0merrors\u001b[0m\u001b[0;34m.\u001b[0m\u001b[0mOpError\u001b[0m \u001b[0;32mas\u001b[0m \u001b[0me\u001b[0m\u001b[0;34m:\u001b[0m\u001b[0;34m\u001b[0m\u001b[0;34m\u001b[0m\u001b[0m\n",
      "\u001b[0;32m/opt/anaconda3/envs/tf15/lib/python3.7/site-packages/tensorflow_core/python/client/session.py\u001b[0m in \u001b[0;36m_run_fn\u001b[0;34m(feed_dict, fetch_list, target_list, options, run_metadata)\u001b[0m\n\u001b[1;32m   1349\u001b[0m       return self._call_tf_sessionrun(options, feed_dict, fetch_list,\n\u001b[0;32m-> 1350\u001b[0;31m                                       target_list, run_metadata)\n\u001b[0m\u001b[1;32m   1351\u001b[0m \u001b[0;34m\u001b[0m\u001b[0m\n",
      "\u001b[0;32m/opt/anaconda3/envs/tf15/lib/python3.7/site-packages/tensorflow_core/python/client/session.py\u001b[0m in \u001b[0;36m_call_tf_sessionrun\u001b[0;34m(self, options, feed_dict, fetch_list, target_list, run_metadata)\u001b[0m\n\u001b[1;32m   1442\u001b[0m                                             \u001b[0mfetch_list\u001b[0m\u001b[0;34m,\u001b[0m \u001b[0mtarget_list\u001b[0m\u001b[0;34m,\u001b[0m\u001b[0;34m\u001b[0m\u001b[0;34m\u001b[0m\u001b[0m\n\u001b[0;32m-> 1443\u001b[0;31m                                             run_metadata)\n\u001b[0m\u001b[1;32m   1444\u001b[0m \u001b[0;34m\u001b[0m\u001b[0m\n",
      "\u001b[0;31mFailedPreconditionError\u001b[0m: Attempting to use uninitialized value Variable\n\t [[{{node save_2/SaveV2}}]]",
      "\nDuring handling of the above exception, another exception occurred:\n",
      "\u001b[0;31mFailedPreconditionError\u001b[0m                   Traceback (most recent call last)",
      "\u001b[0;32m/opt/anaconda3/envs/tf15/lib/python3.7/site-packages/tensorflow_core/python/training/saver.py\u001b[0m in \u001b[0;36msave\u001b[0;34m(self, sess, save_path, global_step, latest_filename, meta_graph_suffix, write_meta_graph, write_state, strip_default_attrs, save_debug_info)\u001b[0m\n\u001b[1;32m   1175\u001b[0m               \u001b[0mself\u001b[0m\u001b[0;34m.\u001b[0m\u001b[0msaver_def\u001b[0m\u001b[0;34m.\u001b[0m\u001b[0msave_tensor_name\u001b[0m\u001b[0;34m,\u001b[0m\u001b[0;34m\u001b[0m\u001b[0;34m\u001b[0m\u001b[0m\n\u001b[0;32m-> 1176\u001b[0;31m               {self.saver_def.filename_tensor_name: checkpoint_file})\n\u001b[0m\u001b[1;32m   1177\u001b[0m \u001b[0;34m\u001b[0m\u001b[0m\n",
      "\u001b[0;32m/opt/anaconda3/envs/tf15/lib/python3.7/site-packages/tensorflow_core/python/client/session.py\u001b[0m in \u001b[0;36mrun\u001b[0;34m(self, fetches, feed_dict, options, run_metadata)\u001b[0m\n\u001b[1;32m    955\u001b[0m       result = self._run(None, fetches, feed_dict, options_ptr,\n\u001b[0;32m--> 956\u001b[0;31m                          run_metadata_ptr)\n\u001b[0m\u001b[1;32m    957\u001b[0m       \u001b[0;32mif\u001b[0m \u001b[0mrun_metadata\u001b[0m\u001b[0;34m:\u001b[0m\u001b[0;34m\u001b[0m\u001b[0;34m\u001b[0m\u001b[0m\n",
      "\u001b[0;32m/opt/anaconda3/envs/tf15/lib/python3.7/site-packages/tensorflow_core/python/client/session.py\u001b[0m in \u001b[0;36m_run\u001b[0;34m(self, handle, fetches, feed_dict, options, run_metadata)\u001b[0m\n\u001b[1;32m   1179\u001b[0m       results = self._do_run(handle, final_targets, final_fetches,\n\u001b[0;32m-> 1180\u001b[0;31m                              feed_dict_tensor, options, run_metadata)\n\u001b[0m\u001b[1;32m   1181\u001b[0m     \u001b[0;32melse\u001b[0m\u001b[0;34m:\u001b[0m\u001b[0;34m\u001b[0m\u001b[0;34m\u001b[0m\u001b[0m\n",
      "\u001b[0;32m/opt/anaconda3/envs/tf15/lib/python3.7/site-packages/tensorflow_core/python/client/session.py\u001b[0m in \u001b[0;36m_do_run\u001b[0;34m(self, handle, target_list, fetch_list, feed_dict, options, run_metadata)\u001b[0m\n\u001b[1;32m   1358\u001b[0m       return self._do_call(_run_fn, feeds, fetches, targets, options,\n\u001b[0;32m-> 1359\u001b[0;31m                            run_metadata)\n\u001b[0m\u001b[1;32m   1360\u001b[0m     \u001b[0;32melse\u001b[0m\u001b[0;34m:\u001b[0m\u001b[0;34m\u001b[0m\u001b[0;34m\u001b[0m\u001b[0m\n",
      "\u001b[0;32m/opt/anaconda3/envs/tf15/lib/python3.7/site-packages/tensorflow_core/python/client/session.py\u001b[0m in \u001b[0;36m_do_call\u001b[0;34m(self, fn, *args)\u001b[0m\n\u001b[1;32m   1383\u001b[0m                     'disable_meta_optimizer = True')\n\u001b[0;32m-> 1384\u001b[0;31m       \u001b[0;32mraise\u001b[0m \u001b[0mtype\u001b[0m\u001b[0;34m(\u001b[0m\u001b[0me\u001b[0m\u001b[0;34m)\u001b[0m\u001b[0;34m(\u001b[0m\u001b[0mnode_def\u001b[0m\u001b[0;34m,\u001b[0m \u001b[0mop\u001b[0m\u001b[0;34m,\u001b[0m \u001b[0mmessage\u001b[0m\u001b[0;34m)\u001b[0m\u001b[0;34m\u001b[0m\u001b[0;34m\u001b[0m\u001b[0m\n\u001b[0m\u001b[1;32m   1385\u001b[0m \u001b[0;34m\u001b[0m\u001b[0m\n",
      "\u001b[0;31mFailedPreconditionError\u001b[0m: Attempting to use uninitialized value Variable\n\t [[node save_2/SaveV2 (defined at opt/anaconda3/envs/tf15/lib/python3.7/site-packages/tensorflow_core/python/framework/ops.py:1748) ]]\n\nOriginal stack trace for 'save_2/SaveV2':\n  File \"opt/anaconda3/envs/tf15/lib/python3.7/runpy.py\", line 193, in _run_module_as_main\n    \"__main__\", mod_spec)\n  File \"opt/anaconda3/envs/tf15/lib/python3.7/runpy.py\", line 85, in _run_code\n    exec(code, run_globals)\n  File \"opt/anaconda3/envs/tf15/lib/python3.7/site-packages/ipykernel_launcher.py\", line 16, in <module>\n    app.launch_new_instance()\n  File \"opt/anaconda3/envs/tf15/lib/python3.7/site-packages/traitlets/config/application.py\", line 846, in launch_instance\n    app.start()\n  File \"opt/anaconda3/envs/tf15/lib/python3.7/site-packages/ipykernel/kernelapp.py\", line 677, in start\n    self.io_loop.start()\n  File \"opt/anaconda3/envs/tf15/lib/python3.7/site-packages/tornado/platform/asyncio.py\", line 199, in start\n    self.asyncio_loop.run_forever()\n  File \"opt/anaconda3/envs/tf15/lib/python3.7/asyncio/base_events.py\", line 541, in run_forever\n    self._run_once()\n  File \"opt/anaconda3/envs/tf15/lib/python3.7/asyncio/base_events.py\", line 1786, in _run_once\n    handle._run()\n  File \"opt/anaconda3/envs/tf15/lib/python3.7/asyncio/events.py\", line 88, in _run\n    self._context.run(self._callback, *self._args)\n  File \"opt/anaconda3/envs/tf15/lib/python3.7/site-packages/ipykernel/kernelbase.py\", line 457, in dispatch_queue\n    await self.process_one()\n  File \"opt/anaconda3/envs/tf15/lib/python3.7/site-packages/ipykernel/kernelbase.py\", line 446, in process_one\n    await dispatch(*args)\n  File \"opt/anaconda3/envs/tf15/lib/python3.7/site-packages/ipykernel/kernelbase.py\", line 353, in dispatch_shell\n    await result\n  File \"opt/anaconda3/envs/tf15/lib/python3.7/site-packages/ipykernel/kernelbase.py\", line 648, in execute_request\n    reply_content = await reply_content\n  File \"opt/anaconda3/envs/tf15/lib/python3.7/site-packages/ipykernel/ipkernel.py\", line 353, in do_execute\n    res = shell.run_cell(code, store_history=store_history, silent=silent)\n  File \"opt/anaconda3/envs/tf15/lib/python3.7/site-packages/ipykernel/zmqshell.py\", line 533, in run_cell\n    return super(ZMQInteractiveShell, self).run_cell(*args, **kwargs)\n  File \"opt/anaconda3/envs/tf15/lib/python3.7/site-packages/IPython/core/interactiveshell.py\", line 2915, in run_cell\n    raw_cell, store_history, silent, shell_futures)\n  File \"opt/anaconda3/envs/tf15/lib/python3.7/site-packages/IPython/core/interactiveshell.py\", line 2960, in _run_cell\n    return runner(coro)\n  File \"opt/anaconda3/envs/tf15/lib/python3.7/site-packages/IPython/core/async_helpers.py\", line 78, in _pseudo_sync_runner\n    coro.send(None)\n  File \"opt/anaconda3/envs/tf15/lib/python3.7/site-packages/IPython/core/interactiveshell.py\", line 3186, in run_cell_async\n    interactivity=interactivity, compiler=compiler, result=result)\n  File \"opt/anaconda3/envs/tf15/lib/python3.7/site-packages/IPython/core/interactiveshell.py\", line 3377, in run_ast_nodes\n    if (await self.run_code(code, result,  async_=asy)):\n  File \"opt/anaconda3/envs/tf15/lib/python3.7/site-packages/IPython/core/interactiveshell.py\", line 3457, in run_code\n    exec(code_obj, self.user_global_ns, self.user_ns)\n  File \"var/folders/37/n9zpx2bx2qq937scr_jzj0480000gn/T/ipykernel_25737/446813776.py\", line 9, in <module>\n    saver = tf.train.Saver()\n  File \"opt/anaconda3/envs/tf15/lib/python3.7/site-packages/tensorflow_core/python/training/saver.py\", line 828, in __init__\n    self.build()\n  File \"opt/anaconda3/envs/tf15/lib/python3.7/site-packages/tensorflow_core/python/training/saver.py\", line 840, in build\n    self._build(self._filename, build_save=True, build_restore=True)\n  File \"opt/anaconda3/envs/tf15/lib/python3.7/site-packages/tensorflow_core/python/training/saver.py\", line 878, in _build\n    build_restore=build_restore)\n  File \"opt/anaconda3/envs/tf15/lib/python3.7/site-packages/tensorflow_core/python/training/saver.py\", line 505, in _build_internal\n    save_tensor = self._AddSaveOps(filename_tensor, saveables)\n  File \"opt/anaconda3/envs/tf15/lib/python3.7/site-packages/tensorflow_core/python/training/saver.py\", line 206, in _AddSaveOps\n    save = self.save_op(filename_tensor, saveables)\n  File \"opt/anaconda3/envs/tf15/lib/python3.7/site-packages/tensorflow_core/python/training/saver.py\", line 122, in save_op\n    tensors)\n  File \"opt/anaconda3/envs/tf15/lib/python3.7/site-packages/tensorflow_core/python/ops/gen_io_ops.py\", line 1946, in save_v2\n    name=name)\n  File \"opt/anaconda3/envs/tf15/lib/python3.7/site-packages/tensorflow_core/python/framework/op_def_library.py\", line 794, in _apply_op_helper\n    op_def=op_def)\n  File \"opt/anaconda3/envs/tf15/lib/python3.7/site-packages/tensorflow_core/python/util/deprecation.py\", line 507, in new_func\n    return func(*args, **kwargs)\n  File \"opt/anaconda3/envs/tf15/lib/python3.7/site-packages/tensorflow_core/python/framework/ops.py\", line 3357, in create_op\n    attrs, op_def, compute_device)\n  File \"opt/anaconda3/envs/tf15/lib/python3.7/site-packages/tensorflow_core/python/framework/ops.py\", line 3426, in _create_op_internal\n    op_def=op_def)\n  File \"opt/anaconda3/envs/tf15/lib/python3.7/site-packages/tensorflow_core/python/framework/ops.py\", line 1748, in __init__\n    self._traceback = tf_stack.extract_stack()\n",
      "\nDuring handling of the above exception, another exception occurred:\n",
      "\u001b[0;31mValueError\u001b[0m                                Traceback (most recent call last)",
      "\u001b[0;32m/var/folders/37/n9zpx2bx2qq937scr_jzj0480000gn/T/ipykernel_25737/446813776.py\u001b[0m in \u001b[0;36m<module>\u001b[0;34m\u001b[0m\n\u001b[1;32m     15\u001b[0m         \u001b[0mupdater\u001b[0m\u001b[0;34m.\u001b[0m\u001b[0meval\u001b[0m\u001b[0;34m(\u001b[0m\u001b[0;34m)\u001b[0m\u001b[0;34m\u001b[0m\u001b[0;34m\u001b[0m\u001b[0m\n\u001b[1;32m     16\u001b[0m \u001b[0;34m\u001b[0m\u001b[0m\n\u001b[0;32m---> 17\u001b[0;31m \u001b[0msave_path\u001b[0m \u001b[0;34m=\u001b[0m \u001b[0msaver\u001b[0m\u001b[0;34m.\u001b[0m\u001b[0msave\u001b[0m\u001b[0;34m(\u001b[0m\u001b[0msess\u001b[0m\u001b[0;34m,\u001b[0m \u001b[0;34m\"spikes.ckpt\"\u001b[0m\u001b[0;34m)\u001b[0m\u001b[0;34m\u001b[0m\u001b[0;34m\u001b[0m\u001b[0m\n\u001b[0m\u001b[1;32m     18\u001b[0m \u001b[0mprint\u001b[0m\u001b[0;34m(\u001b[0m\u001b[0;34m\"spikes data saved in file: %s\"\u001b[0m \u001b[0;34m%\u001b[0m \u001b[0msave_path\u001b[0m\u001b[0;34m)\u001b[0m\u001b[0;34m\u001b[0m\u001b[0;34m\u001b[0m\u001b[0m\n\u001b[1;32m     19\u001b[0m \u001b[0;34m\u001b[0m\u001b[0m\n",
      "\u001b[0;32m/opt/anaconda3/envs/tf15/lib/python3.7/site-packages/tensorflow_core/python/training/saver.py\u001b[0m in \u001b[0;36msave\u001b[0;34m(self, sess, save_path, global_step, latest_filename, meta_graph_suffix, write_meta_graph, write_state, strip_default_attrs, save_debug_info)\u001b[0m\n\u001b[1;32m   1191\u001b[0m               \"Parent directory of {} doesn't exist, can't save.\".format(\n\u001b[1;32m   1192\u001b[0m                   save_path))\n\u001b[0;32m-> 1193\u001b[0;31m         \u001b[0;32mraise\u001b[0m \u001b[0mexc\u001b[0m\u001b[0;34m\u001b[0m\u001b[0;34m\u001b[0m\u001b[0m\n\u001b[0m\u001b[1;32m   1194\u001b[0m \u001b[0;34m\u001b[0m\u001b[0m\n\u001b[1;32m   1195\u001b[0m     \u001b[0;32mif\u001b[0m \u001b[0mwrite_meta_graph\u001b[0m\u001b[0;34m:\u001b[0m\u001b[0;34m\u001b[0m\u001b[0;34m\u001b[0m\u001b[0m\n",
      "\u001b[0;31mValueError\u001b[0m: Parent directory of spikes.ckpt doesn't exist, can't save."
     ]
    }
   ],
   "source": [
    "# import tensorflow.compat.v1 as tf\n",
    "\n",
    "sess = tf.InteractiveSession()\n",
    "\n",
    "raw_data = [1., 2., 8., -1., 0., 5.5, 6., 13]\n",
    "spikes = tf.Variable([False] * len(raw_data), name='spikes')\n",
    "spikes.initializer.run()\n",
    "\n",
    "saver = tf.train.Saver()\n",
    "for i in range(1, len(raw_data)):\n",
    "    if raw_data[i] - raw_data[i-1] > 5:\n",
    "        spikes_val = spikes.eval()\n",
    "        spikes_val[i] = True\n",
    "        updater = tf.assign(spikes,spikes_val)\n",
    "        updater.eval()\n",
    "\n",
    "save_path = saver.save(sess, \"spikes.ckpt\")\n",
    "print(\"spikes data saved in file: %s\" % save_path)\n",
    "\n",
    "\n",
    "sess.close()"
   ]
  },
  {
   "cell_type": "code",
   "execution_count": 33,
   "id": "1f3947c2",
   "metadata": {},
   "outputs": [
    {
     "name": "stdout",
     "output_type": "stream",
     "text": [
      "INFO:tensorflow:Restoring parameters from ./spikes.ckpt\n"
     ]
    },
    {
     "name": "stderr",
     "output_type": "stream",
     "text": [
      "/opt/anaconda3/envs/tf15/lib/python3.7/site-packages/tensorflow_core/python/client/session.py:1750: UserWarning: An interactive session is already active. This can cause out-of-memory errors in some cases. You must explicitly call `InteractiveSession.close()` to release resources held by the other session(s).\n",
      "  warnings.warn('An interactive session is already active. This can '\n",
      "2022-03-04 19:42:39.568672: W tensorflow/core/framework/op_kernel.cc:1651] OP_REQUIRES failed at save_restore_v2_ops.cc:184 : Not found: Key Variable not found in checkpoint\n"
     ]
    },
    {
     "ename": "NotFoundError",
     "evalue": "Restoring from checkpoint failed. This is most likely due to a Variable name or other graph key that is missing from the checkpoint. Please ensure that you have not altered the graph expected based on the checkpoint. Original error:\n\nKey Variable not found in checkpoint\n\t [[node save_1/RestoreV2 (defined at opt/anaconda3/envs/tf15/lib/python3.7/site-packages/tensorflow_core/python/framework/ops.py:1748) ]]\n\nOriginal stack trace for 'save_1/RestoreV2':\n  File \"opt/anaconda3/envs/tf15/lib/python3.7/runpy.py\", line 193, in _run_module_as_main\n    \"__main__\", mod_spec)\n  File \"opt/anaconda3/envs/tf15/lib/python3.7/runpy.py\", line 85, in _run_code\n    exec(code, run_globals)\n  File \"opt/anaconda3/envs/tf15/lib/python3.7/site-packages/ipykernel_launcher.py\", line 16, in <module>\n    app.launch_new_instance()\n  File \"opt/anaconda3/envs/tf15/lib/python3.7/site-packages/traitlets/config/application.py\", line 846, in launch_instance\n    app.start()\n  File \"opt/anaconda3/envs/tf15/lib/python3.7/site-packages/ipykernel/kernelapp.py\", line 677, in start\n    self.io_loop.start()\n  File \"opt/anaconda3/envs/tf15/lib/python3.7/site-packages/tornado/platform/asyncio.py\", line 199, in start\n    self.asyncio_loop.run_forever()\n  File \"opt/anaconda3/envs/tf15/lib/python3.7/asyncio/base_events.py\", line 541, in run_forever\n    self._run_once()\n  File \"opt/anaconda3/envs/tf15/lib/python3.7/asyncio/base_events.py\", line 1786, in _run_once\n    handle._run()\n  File \"opt/anaconda3/envs/tf15/lib/python3.7/asyncio/events.py\", line 88, in _run\n    self._context.run(self._callback, *self._args)\n  File \"opt/anaconda3/envs/tf15/lib/python3.7/site-packages/ipykernel/kernelbase.py\", line 457, in dispatch_queue\n    await self.process_one()\n  File \"opt/anaconda3/envs/tf15/lib/python3.7/site-packages/ipykernel/kernelbase.py\", line 446, in process_one\n    await dispatch(*args)\n  File \"opt/anaconda3/envs/tf15/lib/python3.7/site-packages/ipykernel/kernelbase.py\", line 353, in dispatch_shell\n    await result\n  File \"opt/anaconda3/envs/tf15/lib/python3.7/site-packages/ipykernel/kernelbase.py\", line 648, in execute_request\n    reply_content = await reply_content\n  File \"opt/anaconda3/envs/tf15/lib/python3.7/site-packages/ipykernel/ipkernel.py\", line 353, in do_execute\n    res = shell.run_cell(code, store_history=store_history, silent=silent)\n  File \"opt/anaconda3/envs/tf15/lib/python3.7/site-packages/ipykernel/zmqshell.py\", line 533, in run_cell\n    return super(ZMQInteractiveShell, self).run_cell(*args, **kwargs)\n  File \"opt/anaconda3/envs/tf15/lib/python3.7/site-packages/IPython/core/interactiveshell.py\", line 2915, in run_cell\n    raw_cell, store_history, silent, shell_futures)\n  File \"opt/anaconda3/envs/tf15/lib/python3.7/site-packages/IPython/core/interactiveshell.py\", line 2960, in _run_cell\n    return runner(coro)\n  File \"opt/anaconda3/envs/tf15/lib/python3.7/site-packages/IPython/core/async_helpers.py\", line 78, in _pseudo_sync_runner\n    coro.send(None)\n  File \"opt/anaconda3/envs/tf15/lib/python3.7/site-packages/IPython/core/interactiveshell.py\", line 3186, in run_cell_async\n    interactivity=interactivity, compiler=compiler, result=result)\n  File \"opt/anaconda3/envs/tf15/lib/python3.7/site-packages/IPython/core/interactiveshell.py\", line 3377, in run_ast_nodes\n    if (await self.run_code(code, result,  async_=asy)):\n  File \"opt/anaconda3/envs/tf15/lib/python3.7/site-packages/IPython/core/interactiveshell.py\", line 3457, in run_code\n    exec(code_obj, self.user_global_ns, self.user_ns)\n  File \"var/folders/37/n9zpx2bx2qq937scr_jzj0480000gn/T/ipykernel_25737/490970018.py\", line 6, in <module>\n    saver = tf.train.Saver()\n  File \"opt/anaconda3/envs/tf15/lib/python3.7/site-packages/tensorflow_core/python/training/saver.py\", line 828, in __init__\n    self.build()\n  File \"opt/anaconda3/envs/tf15/lib/python3.7/site-packages/tensorflow_core/python/training/saver.py\", line 840, in build\n    self._build(self._filename, build_save=True, build_restore=True)\n  File \"opt/anaconda3/envs/tf15/lib/python3.7/site-packages/tensorflow_core/python/training/saver.py\", line 878, in _build\n    build_restore=build_restore)\n  File \"opt/anaconda3/envs/tf15/lib/python3.7/site-packages/tensorflow_core/python/training/saver.py\", line 508, in _build_internal\n    restore_sequentially, reshape)\n  File \"opt/anaconda3/envs/tf15/lib/python3.7/site-packages/tensorflow_core/python/training/saver.py\", line 328, in _AddRestoreOps\n    restore_sequentially)\n  File \"opt/anaconda3/envs/tf15/lib/python3.7/site-packages/tensorflow_core/python/training/saver.py\", line 575, in bulk_restore\n    return io_ops.restore_v2(filename_tensor, names, slices, dtypes)\n  File \"opt/anaconda3/envs/tf15/lib/python3.7/site-packages/tensorflow_core/python/ops/gen_io_ops.py\", line 1696, in restore_v2\n    name=name)\n  File \"opt/anaconda3/envs/tf15/lib/python3.7/site-packages/tensorflow_core/python/framework/op_def_library.py\", line 794, in _apply_op_helper\n    op_def=op_def)\n  File \"opt/anaconda3/envs/tf15/lib/python3.7/site-packages/tensorflow_core/python/util/deprecation.py\", line 507, in new_func\n    return func(*args, **kwargs)\n  File \"opt/anaconda3/envs/tf15/lib/python3.7/site-packages/tensorflow_core/python/framework/ops.py\", line 3357, in create_op\n    attrs, op_def, compute_device)\n  File \"opt/anaconda3/envs/tf15/lib/python3.7/site-packages/tensorflow_core/python/framework/ops.py\", line 3426, in _create_op_internal\n    op_def=op_def)\n  File \"opt/anaconda3/envs/tf15/lib/python3.7/site-packages/tensorflow_core/python/framework/ops.py\", line 1748, in __init__\n    self._traceback = tf_stack.extract_stack()\n",
     "output_type": "error",
     "traceback": [
      "\u001b[0;31m---------------------------------------------------------------------------\u001b[0m",
      "\u001b[0;31mNotFoundError\u001b[0m                             Traceback (most recent call last)",
      "\u001b[0;32m/opt/anaconda3/envs/tf15/lib/python3.7/site-packages/tensorflow_core/python/client/session.py\u001b[0m in \u001b[0;36m_do_call\u001b[0;34m(self, fn, *args)\u001b[0m\n\u001b[1;32m   1364\u001b[0m     \u001b[0;32mtry\u001b[0m\u001b[0;34m:\u001b[0m\u001b[0;34m\u001b[0m\u001b[0;34m\u001b[0m\u001b[0m\n\u001b[0;32m-> 1365\u001b[0;31m       \u001b[0;32mreturn\u001b[0m \u001b[0mfn\u001b[0m\u001b[0;34m(\u001b[0m\u001b[0;34m*\u001b[0m\u001b[0margs\u001b[0m\u001b[0;34m)\u001b[0m\u001b[0;34m\u001b[0m\u001b[0;34m\u001b[0m\u001b[0m\n\u001b[0m\u001b[1;32m   1366\u001b[0m     \u001b[0;32mexcept\u001b[0m \u001b[0merrors\u001b[0m\u001b[0;34m.\u001b[0m\u001b[0mOpError\u001b[0m \u001b[0;32mas\u001b[0m \u001b[0me\u001b[0m\u001b[0;34m:\u001b[0m\u001b[0;34m\u001b[0m\u001b[0;34m\u001b[0m\u001b[0m\n",
      "\u001b[0;32m/opt/anaconda3/envs/tf15/lib/python3.7/site-packages/tensorflow_core/python/client/session.py\u001b[0m in \u001b[0;36m_run_fn\u001b[0;34m(feed_dict, fetch_list, target_list, options, run_metadata)\u001b[0m\n\u001b[1;32m   1349\u001b[0m       return self._call_tf_sessionrun(options, feed_dict, fetch_list,\n\u001b[0;32m-> 1350\u001b[0;31m                                       target_list, run_metadata)\n\u001b[0m\u001b[1;32m   1351\u001b[0m \u001b[0;34m\u001b[0m\u001b[0m\n",
      "\u001b[0;32m/opt/anaconda3/envs/tf15/lib/python3.7/site-packages/tensorflow_core/python/client/session.py\u001b[0m in \u001b[0;36m_call_tf_sessionrun\u001b[0;34m(self, options, feed_dict, fetch_list, target_list, run_metadata)\u001b[0m\n\u001b[1;32m   1442\u001b[0m                                             \u001b[0mfetch_list\u001b[0m\u001b[0;34m,\u001b[0m \u001b[0mtarget_list\u001b[0m\u001b[0;34m,\u001b[0m\u001b[0;34m\u001b[0m\u001b[0;34m\u001b[0m\u001b[0m\n\u001b[0;32m-> 1443\u001b[0;31m                                             run_metadata)\n\u001b[0m\u001b[1;32m   1444\u001b[0m \u001b[0;34m\u001b[0m\u001b[0m\n",
      "\u001b[0;31mNotFoundError\u001b[0m: Key Variable not found in checkpoint\n\t [[{{node save_1/RestoreV2}}]]",
      "\nDuring handling of the above exception, another exception occurred:\n",
      "\u001b[0;31mNotFoundError\u001b[0m                             Traceback (most recent call last)",
      "\u001b[0;32m/opt/anaconda3/envs/tf15/lib/python3.7/site-packages/tensorflow_core/python/training/saver.py\u001b[0m in \u001b[0;36mrestore\u001b[0;34m(self, sess, save_path)\u001b[0m\n\u001b[1;32m   1289\u001b[0m         sess.run(self.saver_def.restore_op_name,\n\u001b[0;32m-> 1290\u001b[0;31m                  {self.saver_def.filename_tensor_name: save_path})\n\u001b[0m\u001b[1;32m   1291\u001b[0m     \u001b[0;32mexcept\u001b[0m \u001b[0merrors\u001b[0m\u001b[0;34m.\u001b[0m\u001b[0mNotFoundError\u001b[0m \u001b[0;32mas\u001b[0m \u001b[0merr\u001b[0m\u001b[0;34m:\u001b[0m\u001b[0;34m\u001b[0m\u001b[0;34m\u001b[0m\u001b[0m\n",
      "\u001b[0;32m/opt/anaconda3/envs/tf15/lib/python3.7/site-packages/tensorflow_core/python/client/session.py\u001b[0m in \u001b[0;36mrun\u001b[0;34m(self, fetches, feed_dict, options, run_metadata)\u001b[0m\n\u001b[1;32m    955\u001b[0m       result = self._run(None, fetches, feed_dict, options_ptr,\n\u001b[0;32m--> 956\u001b[0;31m                          run_metadata_ptr)\n\u001b[0m\u001b[1;32m    957\u001b[0m       \u001b[0;32mif\u001b[0m \u001b[0mrun_metadata\u001b[0m\u001b[0;34m:\u001b[0m\u001b[0;34m\u001b[0m\u001b[0;34m\u001b[0m\u001b[0m\n",
      "\u001b[0;32m/opt/anaconda3/envs/tf15/lib/python3.7/site-packages/tensorflow_core/python/client/session.py\u001b[0m in \u001b[0;36m_run\u001b[0;34m(self, handle, fetches, feed_dict, options, run_metadata)\u001b[0m\n\u001b[1;32m   1179\u001b[0m       results = self._do_run(handle, final_targets, final_fetches,\n\u001b[0;32m-> 1180\u001b[0;31m                              feed_dict_tensor, options, run_metadata)\n\u001b[0m\u001b[1;32m   1181\u001b[0m     \u001b[0;32melse\u001b[0m\u001b[0;34m:\u001b[0m\u001b[0;34m\u001b[0m\u001b[0;34m\u001b[0m\u001b[0m\n",
      "\u001b[0;32m/opt/anaconda3/envs/tf15/lib/python3.7/site-packages/tensorflow_core/python/client/session.py\u001b[0m in \u001b[0;36m_do_run\u001b[0;34m(self, handle, target_list, fetch_list, feed_dict, options, run_metadata)\u001b[0m\n\u001b[1;32m   1358\u001b[0m       return self._do_call(_run_fn, feeds, fetches, targets, options,\n\u001b[0;32m-> 1359\u001b[0;31m                            run_metadata)\n\u001b[0m\u001b[1;32m   1360\u001b[0m     \u001b[0;32melse\u001b[0m\u001b[0;34m:\u001b[0m\u001b[0;34m\u001b[0m\u001b[0;34m\u001b[0m\u001b[0m\n",
      "\u001b[0;32m/opt/anaconda3/envs/tf15/lib/python3.7/site-packages/tensorflow_core/python/client/session.py\u001b[0m in \u001b[0;36m_do_call\u001b[0;34m(self, fn, *args)\u001b[0m\n\u001b[1;32m   1383\u001b[0m                     'disable_meta_optimizer = True')\n\u001b[0;32m-> 1384\u001b[0;31m       \u001b[0;32mraise\u001b[0m \u001b[0mtype\u001b[0m\u001b[0;34m(\u001b[0m\u001b[0me\u001b[0m\u001b[0;34m)\u001b[0m\u001b[0;34m(\u001b[0m\u001b[0mnode_def\u001b[0m\u001b[0;34m,\u001b[0m \u001b[0mop\u001b[0m\u001b[0;34m,\u001b[0m \u001b[0mmessage\u001b[0m\u001b[0;34m)\u001b[0m\u001b[0;34m\u001b[0m\u001b[0;34m\u001b[0m\u001b[0m\n\u001b[0m\u001b[1;32m   1385\u001b[0m \u001b[0;34m\u001b[0m\u001b[0m\n",
      "\u001b[0;31mNotFoundError\u001b[0m: Key Variable not found in checkpoint\n\t [[node save_1/RestoreV2 (defined at opt/anaconda3/envs/tf15/lib/python3.7/site-packages/tensorflow_core/python/framework/ops.py:1748) ]]\n\nOriginal stack trace for 'save_1/RestoreV2':\n  File \"opt/anaconda3/envs/tf15/lib/python3.7/runpy.py\", line 193, in _run_module_as_main\n    \"__main__\", mod_spec)\n  File \"opt/anaconda3/envs/tf15/lib/python3.7/runpy.py\", line 85, in _run_code\n    exec(code, run_globals)\n  File \"opt/anaconda3/envs/tf15/lib/python3.7/site-packages/ipykernel_launcher.py\", line 16, in <module>\n    app.launch_new_instance()\n  File \"opt/anaconda3/envs/tf15/lib/python3.7/site-packages/traitlets/config/application.py\", line 846, in launch_instance\n    app.start()\n  File \"opt/anaconda3/envs/tf15/lib/python3.7/site-packages/ipykernel/kernelapp.py\", line 677, in start\n    self.io_loop.start()\n  File \"opt/anaconda3/envs/tf15/lib/python3.7/site-packages/tornado/platform/asyncio.py\", line 199, in start\n    self.asyncio_loop.run_forever()\n  File \"opt/anaconda3/envs/tf15/lib/python3.7/asyncio/base_events.py\", line 541, in run_forever\n    self._run_once()\n  File \"opt/anaconda3/envs/tf15/lib/python3.7/asyncio/base_events.py\", line 1786, in _run_once\n    handle._run()\n  File \"opt/anaconda3/envs/tf15/lib/python3.7/asyncio/events.py\", line 88, in _run\n    self._context.run(self._callback, *self._args)\n  File \"opt/anaconda3/envs/tf15/lib/python3.7/site-packages/ipykernel/kernelbase.py\", line 457, in dispatch_queue\n    await self.process_one()\n  File \"opt/anaconda3/envs/tf15/lib/python3.7/site-packages/ipykernel/kernelbase.py\", line 446, in process_one\n    await dispatch(*args)\n  File \"opt/anaconda3/envs/tf15/lib/python3.7/site-packages/ipykernel/kernelbase.py\", line 353, in dispatch_shell\n    await result\n  File \"opt/anaconda3/envs/tf15/lib/python3.7/site-packages/ipykernel/kernelbase.py\", line 648, in execute_request\n    reply_content = await reply_content\n  File \"opt/anaconda3/envs/tf15/lib/python3.7/site-packages/ipykernel/ipkernel.py\", line 353, in do_execute\n    res = shell.run_cell(code, store_history=store_history, silent=silent)\n  File \"opt/anaconda3/envs/tf15/lib/python3.7/site-packages/ipykernel/zmqshell.py\", line 533, in run_cell\n    return super(ZMQInteractiveShell, self).run_cell(*args, **kwargs)\n  File \"opt/anaconda3/envs/tf15/lib/python3.7/site-packages/IPython/core/interactiveshell.py\", line 2915, in run_cell\n    raw_cell, store_history, silent, shell_futures)\n  File \"opt/anaconda3/envs/tf15/lib/python3.7/site-packages/IPython/core/interactiveshell.py\", line 2960, in _run_cell\n    return runner(coro)\n  File \"opt/anaconda3/envs/tf15/lib/python3.7/site-packages/IPython/core/async_helpers.py\", line 78, in _pseudo_sync_runner\n    coro.send(None)\n  File \"opt/anaconda3/envs/tf15/lib/python3.7/site-packages/IPython/core/interactiveshell.py\", line 3186, in run_cell_async\n    interactivity=interactivity, compiler=compiler, result=result)\n  File \"opt/anaconda3/envs/tf15/lib/python3.7/site-packages/IPython/core/interactiveshell.py\", line 3377, in run_ast_nodes\n    if (await self.run_code(code, result,  async_=asy)):\n  File \"opt/anaconda3/envs/tf15/lib/python3.7/site-packages/IPython/core/interactiveshell.py\", line 3457, in run_code\n    exec(code_obj, self.user_global_ns, self.user_ns)\n  File \"var/folders/37/n9zpx2bx2qq937scr_jzj0480000gn/T/ipykernel_25737/490970018.py\", line 6, in <module>\n    saver = tf.train.Saver()\n  File \"opt/anaconda3/envs/tf15/lib/python3.7/site-packages/tensorflow_core/python/training/saver.py\", line 828, in __init__\n    self.build()\n  File \"opt/anaconda3/envs/tf15/lib/python3.7/site-packages/tensorflow_core/python/training/saver.py\", line 840, in build\n    self._build(self._filename, build_save=True, build_restore=True)\n  File \"opt/anaconda3/envs/tf15/lib/python3.7/site-packages/tensorflow_core/python/training/saver.py\", line 878, in _build\n    build_restore=build_restore)\n  File \"opt/anaconda3/envs/tf15/lib/python3.7/site-packages/tensorflow_core/python/training/saver.py\", line 508, in _build_internal\n    restore_sequentially, reshape)\n  File \"opt/anaconda3/envs/tf15/lib/python3.7/site-packages/tensorflow_core/python/training/saver.py\", line 328, in _AddRestoreOps\n    restore_sequentially)\n  File \"opt/anaconda3/envs/tf15/lib/python3.7/site-packages/tensorflow_core/python/training/saver.py\", line 575, in bulk_restore\n    return io_ops.restore_v2(filename_tensor, names, slices, dtypes)\n  File \"opt/anaconda3/envs/tf15/lib/python3.7/site-packages/tensorflow_core/python/ops/gen_io_ops.py\", line 1696, in restore_v2\n    name=name)\n  File \"opt/anaconda3/envs/tf15/lib/python3.7/site-packages/tensorflow_core/python/framework/op_def_library.py\", line 794, in _apply_op_helper\n    op_def=op_def)\n  File \"opt/anaconda3/envs/tf15/lib/python3.7/site-packages/tensorflow_core/python/util/deprecation.py\", line 507, in new_func\n    return func(*args, **kwargs)\n  File \"opt/anaconda3/envs/tf15/lib/python3.7/site-packages/tensorflow_core/python/framework/ops.py\", line 3357, in create_op\n    attrs, op_def, compute_device)\n  File \"opt/anaconda3/envs/tf15/lib/python3.7/site-packages/tensorflow_core/python/framework/ops.py\", line 3426, in _create_op_internal\n    op_def=op_def)\n  File \"opt/anaconda3/envs/tf15/lib/python3.7/site-packages/tensorflow_core/python/framework/ops.py\", line 1748, in __init__\n    self._traceback = tf_stack.extract_stack()\n",
      "\nDuring handling of the above exception, another exception occurred:\n",
      "\u001b[0;31mNotFoundError\u001b[0m                             Traceback (most recent call last)",
      "\u001b[0;32m/opt/anaconda3/envs/tf15/lib/python3.7/site-packages/tensorflow_core/python/training/saver.py\u001b[0m in \u001b[0;36mrestore\u001b[0;34m(self, sess, save_path)\u001b[0m\n\u001b[1;32m   1299\u001b[0m       \u001b[0;32mtry\u001b[0m\u001b[0;34m:\u001b[0m\u001b[0;34m\u001b[0m\u001b[0;34m\u001b[0m\u001b[0m\n\u001b[0;32m-> 1300\u001b[0;31m         \u001b[0mnames_to_keys\u001b[0m \u001b[0;34m=\u001b[0m \u001b[0mobject_graph_key_mapping\u001b[0m\u001b[0;34m(\u001b[0m\u001b[0msave_path\u001b[0m\u001b[0;34m)\u001b[0m\u001b[0;34m\u001b[0m\u001b[0;34m\u001b[0m\u001b[0m\n\u001b[0m\u001b[1;32m   1301\u001b[0m       \u001b[0;32mexcept\u001b[0m \u001b[0merrors\u001b[0m\u001b[0;34m.\u001b[0m\u001b[0mNotFoundError\u001b[0m\u001b[0;34m:\u001b[0m\u001b[0;34m\u001b[0m\u001b[0;34m\u001b[0m\u001b[0m\n",
      "\u001b[0;32m/opt/anaconda3/envs/tf15/lib/python3.7/site-packages/tensorflow_core/python/training/saver.py\u001b[0m in \u001b[0;36mobject_graph_key_mapping\u001b[0;34m(checkpoint_path)\u001b[0m\n\u001b[1;32m   1617\u001b[0m   \u001b[0mreader\u001b[0m \u001b[0;34m=\u001b[0m \u001b[0mpywrap_tensorflow\u001b[0m\u001b[0;34m.\u001b[0m\u001b[0mNewCheckpointReader\u001b[0m\u001b[0;34m(\u001b[0m\u001b[0mcheckpoint_path\u001b[0m\u001b[0;34m)\u001b[0m\u001b[0;34m\u001b[0m\u001b[0;34m\u001b[0m\u001b[0m\n\u001b[0;32m-> 1618\u001b[0;31m   \u001b[0mobject_graph_string\u001b[0m \u001b[0;34m=\u001b[0m \u001b[0mreader\u001b[0m\u001b[0;34m.\u001b[0m\u001b[0mget_tensor\u001b[0m\u001b[0;34m(\u001b[0m\u001b[0mtrackable\u001b[0m\u001b[0;34m.\u001b[0m\u001b[0mOBJECT_GRAPH_PROTO_KEY\u001b[0m\u001b[0;34m)\u001b[0m\u001b[0;34m\u001b[0m\u001b[0;34m\u001b[0m\u001b[0m\n\u001b[0m\u001b[1;32m   1619\u001b[0m   \u001b[0mobject_graph_proto\u001b[0m \u001b[0;34m=\u001b[0m \u001b[0;34m(\u001b[0m\u001b[0mtrackable_object_graph_pb2\u001b[0m\u001b[0;34m.\u001b[0m\u001b[0mTrackableObjectGraph\u001b[0m\u001b[0;34m(\u001b[0m\u001b[0;34m)\u001b[0m\u001b[0;34m)\u001b[0m\u001b[0;34m\u001b[0m\u001b[0;34m\u001b[0m\u001b[0m\n",
      "\u001b[0;32m/opt/anaconda3/envs/tf15/lib/python3.7/site-packages/tensorflow_core/python/pywrap_tensorflow_internal.py\u001b[0m in \u001b[0;36mget_tensor\u001b[0;34m(self, tensor_str)\u001b[0m\n\u001b[1;32m    914\u001b[0m \u001b[0;34m\u001b[0m\u001b[0m\n\u001b[0;32m--> 915\u001b[0;31m       \u001b[0;32mreturn\u001b[0m \u001b[0mCheckpointReader_GetTensor\u001b[0m\u001b[0;34m(\u001b[0m\u001b[0mself\u001b[0m\u001b[0;34m,\u001b[0m \u001b[0mcompat\u001b[0m\u001b[0;34m.\u001b[0m\u001b[0mas_bytes\u001b[0m\u001b[0;34m(\u001b[0m\u001b[0mtensor_str\u001b[0m\u001b[0;34m)\u001b[0m\u001b[0;34m)\u001b[0m\u001b[0;34m\u001b[0m\u001b[0;34m\u001b[0m\u001b[0m\n\u001b[0m\u001b[1;32m    916\u001b[0m \u001b[0;34m\u001b[0m\u001b[0m\n",
      "\u001b[0;31mNotFoundError\u001b[0m: Key _CHECKPOINTABLE_OBJECT_GRAPH not found in checkpoint",
      "\nDuring handling of the above exception, another exception occurred:\n",
      "\u001b[0;31mNotFoundError\u001b[0m                             Traceback (most recent call last)",
      "\u001b[0;32m/var/folders/37/n9zpx2bx2qq937scr_jzj0480000gn/T/ipykernel_25737/490970018.py\u001b[0m in \u001b[0;36m<module>\u001b[0;34m\u001b[0m\n\u001b[1;32m      6\u001b[0m \u001b[0msaver\u001b[0m \u001b[0;34m=\u001b[0m \u001b[0mtf\u001b[0m\u001b[0;34m.\u001b[0m\u001b[0mtrain\u001b[0m\u001b[0;34m.\u001b[0m\u001b[0mSaver\u001b[0m\u001b[0;34m(\u001b[0m\u001b[0;34m)\u001b[0m\u001b[0;34m\u001b[0m\u001b[0;34m\u001b[0m\u001b[0m\n\u001b[1;32m      7\u001b[0m \u001b[0;34m\u001b[0m\u001b[0m\n\u001b[0;32m----> 8\u001b[0;31m \u001b[0msaver\u001b[0m\u001b[0;34m.\u001b[0m\u001b[0mrestore\u001b[0m\u001b[0;34m(\u001b[0m\u001b[0msess\u001b[0m\u001b[0;34m,\u001b[0m \u001b[0;34m\"./spikes.ckpt\"\u001b[0m\u001b[0;34m)\u001b[0m\u001b[0;34m\u001b[0m\u001b[0;34m\u001b[0m\u001b[0m\n\u001b[0m\u001b[1;32m      9\u001b[0m \u001b[0mprint\u001b[0m\u001b[0;34m(\u001b[0m\u001b[0mspikes\u001b[0m\u001b[0;34m.\u001b[0m\u001b[0meval\u001b[0m\u001b[0;34m(\u001b[0m\u001b[0;34m)\u001b[0m\u001b[0;34m)\u001b[0m\u001b[0;34m\u001b[0m\u001b[0;34m\u001b[0m\u001b[0m\n\u001b[1;32m     10\u001b[0m \u001b[0msess\u001b[0m\u001b[0;34m.\u001b[0m\u001b[0mclose\u001b[0m\u001b[0;34m(\u001b[0m\u001b[0;34m)\u001b[0m\u001b[0;34m\u001b[0m\u001b[0;34m\u001b[0m\u001b[0m\n",
      "\u001b[0;32m/opt/anaconda3/envs/tf15/lib/python3.7/site-packages/tensorflow_core/python/training/saver.py\u001b[0m in \u001b[0;36mrestore\u001b[0;34m(self, sess, save_path)\u001b[0m\n\u001b[1;32m   1304\u001b[0m         \u001b[0;31m# a helpful message (b/110263146)\u001b[0m\u001b[0;34m\u001b[0m\u001b[0;34m\u001b[0m\u001b[0;34m\u001b[0m\u001b[0m\n\u001b[1;32m   1305\u001b[0m         raise _wrap_restore_error_with_msg(\n\u001b[0;32m-> 1306\u001b[0;31m             err, \"a Variable name or other graph key that is missing\")\n\u001b[0m\u001b[1;32m   1307\u001b[0m \u001b[0;34m\u001b[0m\u001b[0m\n\u001b[1;32m   1308\u001b[0m       \u001b[0;31m# This is an object-based checkpoint. We'll print a warning and then do\u001b[0m\u001b[0;34m\u001b[0m\u001b[0;34m\u001b[0m\u001b[0;34m\u001b[0m\u001b[0m\n",
      "\u001b[0;31mNotFoundError\u001b[0m: Restoring from checkpoint failed. This is most likely due to a Variable name or other graph key that is missing from the checkpoint. Please ensure that you have not altered the graph expected based on the checkpoint. Original error:\n\nKey Variable not found in checkpoint\n\t [[node save_1/RestoreV2 (defined at opt/anaconda3/envs/tf15/lib/python3.7/site-packages/tensorflow_core/python/framework/ops.py:1748) ]]\n\nOriginal stack trace for 'save_1/RestoreV2':\n  File \"opt/anaconda3/envs/tf15/lib/python3.7/runpy.py\", line 193, in _run_module_as_main\n    \"__main__\", mod_spec)\n  File \"opt/anaconda3/envs/tf15/lib/python3.7/runpy.py\", line 85, in _run_code\n    exec(code, run_globals)\n  File \"opt/anaconda3/envs/tf15/lib/python3.7/site-packages/ipykernel_launcher.py\", line 16, in <module>\n    app.launch_new_instance()\n  File \"opt/anaconda3/envs/tf15/lib/python3.7/site-packages/traitlets/config/application.py\", line 846, in launch_instance\n    app.start()\n  File \"opt/anaconda3/envs/tf15/lib/python3.7/site-packages/ipykernel/kernelapp.py\", line 677, in start\n    self.io_loop.start()\n  File \"opt/anaconda3/envs/tf15/lib/python3.7/site-packages/tornado/platform/asyncio.py\", line 199, in start\n    self.asyncio_loop.run_forever()\n  File \"opt/anaconda3/envs/tf15/lib/python3.7/asyncio/base_events.py\", line 541, in run_forever\n    self._run_once()\n  File \"opt/anaconda3/envs/tf15/lib/python3.7/asyncio/base_events.py\", line 1786, in _run_once\n    handle._run()\n  File \"opt/anaconda3/envs/tf15/lib/python3.7/asyncio/events.py\", line 88, in _run\n    self._context.run(self._callback, *self._args)\n  File \"opt/anaconda3/envs/tf15/lib/python3.7/site-packages/ipykernel/kernelbase.py\", line 457, in dispatch_queue\n    await self.process_one()\n  File \"opt/anaconda3/envs/tf15/lib/python3.7/site-packages/ipykernel/kernelbase.py\", line 446, in process_one\n    await dispatch(*args)\n  File \"opt/anaconda3/envs/tf15/lib/python3.7/site-packages/ipykernel/kernelbase.py\", line 353, in dispatch_shell\n    await result\n  File \"opt/anaconda3/envs/tf15/lib/python3.7/site-packages/ipykernel/kernelbase.py\", line 648, in execute_request\n    reply_content = await reply_content\n  File \"opt/anaconda3/envs/tf15/lib/python3.7/site-packages/ipykernel/ipkernel.py\", line 353, in do_execute\n    res = shell.run_cell(code, store_history=store_history, silent=silent)\n  File \"opt/anaconda3/envs/tf15/lib/python3.7/site-packages/ipykernel/zmqshell.py\", line 533, in run_cell\n    return super(ZMQInteractiveShell, self).run_cell(*args, **kwargs)\n  File \"opt/anaconda3/envs/tf15/lib/python3.7/site-packages/IPython/core/interactiveshell.py\", line 2915, in run_cell\n    raw_cell, store_history, silent, shell_futures)\n  File \"opt/anaconda3/envs/tf15/lib/python3.7/site-packages/IPython/core/interactiveshell.py\", line 2960, in _run_cell\n    return runner(coro)\n  File \"opt/anaconda3/envs/tf15/lib/python3.7/site-packages/IPython/core/async_helpers.py\", line 78, in _pseudo_sync_runner\n    coro.send(None)\n  File \"opt/anaconda3/envs/tf15/lib/python3.7/site-packages/IPython/core/interactiveshell.py\", line 3186, in run_cell_async\n    interactivity=interactivity, compiler=compiler, result=result)\n  File \"opt/anaconda3/envs/tf15/lib/python3.7/site-packages/IPython/core/interactiveshell.py\", line 3377, in run_ast_nodes\n    if (await self.run_code(code, result,  async_=asy)):\n  File \"opt/anaconda3/envs/tf15/lib/python3.7/site-packages/IPython/core/interactiveshell.py\", line 3457, in run_code\n    exec(code_obj, self.user_global_ns, self.user_ns)\n  File \"var/folders/37/n9zpx2bx2qq937scr_jzj0480000gn/T/ipykernel_25737/490970018.py\", line 6, in <module>\n    saver = tf.train.Saver()\n  File \"opt/anaconda3/envs/tf15/lib/python3.7/site-packages/tensorflow_core/python/training/saver.py\", line 828, in __init__\n    self.build()\n  File \"opt/anaconda3/envs/tf15/lib/python3.7/site-packages/tensorflow_core/python/training/saver.py\", line 840, in build\n    self._build(self._filename, build_save=True, build_restore=True)\n  File \"opt/anaconda3/envs/tf15/lib/python3.7/site-packages/tensorflow_core/python/training/saver.py\", line 878, in _build\n    build_restore=build_restore)\n  File \"opt/anaconda3/envs/tf15/lib/python3.7/site-packages/tensorflow_core/python/training/saver.py\", line 508, in _build_internal\n    restore_sequentially, reshape)\n  File \"opt/anaconda3/envs/tf15/lib/python3.7/site-packages/tensorflow_core/python/training/saver.py\", line 328, in _AddRestoreOps\n    restore_sequentially)\n  File \"opt/anaconda3/envs/tf15/lib/python3.7/site-packages/tensorflow_core/python/training/saver.py\", line 575, in bulk_restore\n    return io_ops.restore_v2(filename_tensor, names, slices, dtypes)\n  File \"opt/anaconda3/envs/tf15/lib/python3.7/site-packages/tensorflow_core/python/ops/gen_io_ops.py\", line 1696, in restore_v2\n    name=name)\n  File \"opt/anaconda3/envs/tf15/lib/python3.7/site-packages/tensorflow_core/python/framework/op_def_library.py\", line 794, in _apply_op_helper\n    op_def=op_def)\n  File \"opt/anaconda3/envs/tf15/lib/python3.7/site-packages/tensorflow_core/python/util/deprecation.py\", line 507, in new_func\n    return func(*args, **kwargs)\n  File \"opt/anaconda3/envs/tf15/lib/python3.7/site-packages/tensorflow_core/python/framework/ops.py\", line 3357, in create_op\n    attrs, op_def, compute_device)\n  File \"opt/anaconda3/envs/tf15/lib/python3.7/site-packages/tensorflow_core/python/framework/ops.py\", line 3426, in _create_op_internal\n    op_def=op_def)\n  File \"opt/anaconda3/envs/tf15/lib/python3.7/site-packages/tensorflow_core/python/framework/ops.py\", line 1748, in __init__\n    self._traceback = tf_stack.extract_stack()\n"
     ]
    }
   ],
   "source": [
    "# import tensorflow as tf\n",
    "sess = tf.InteractiveSession()\n",
    "\n",
    "spikes = tf.Variable([False]*8, name='spikes')\n",
    "spikes.initializer.run()\n",
    "saver = tf.train.Saver()\n",
    "\n",
    "saver.restore(sess, \"./spikes.ckpt\")\n",
    "print(spikes.eval())\n",
    "sess.close()\n"
   ]
  },
  {
   "cell_type": "code",
   "execution_count": null,
   "id": "01ffda73",
   "metadata": {},
   "outputs": [
    {
     "name": "stderr",
     "output_type": "stream",
     "text": [
      "ERROR:root:Internal Python error in the inspect module.\n",
      "Below is the traceback from this internal error.\n",
      "\n"
     ]
    },
    {
     "name": "stdout",
     "output_type": "stream",
     "text": [
      "ERROR! Session/line number was not unique in database. History logging moved to new session 146\n",
      "Traceback (most recent call last):\n",
      "  File \"/opt/anaconda3/envs/tf15/lib/python3.7/site-packages/IPython/core/interactiveshell.py\", line 3457, in run_code\n",
      "    exec(code_obj, self.user_global_ns, self.user_ns)\n",
      "  File \"/var/folders/37/n9zpx2bx2qq937scr_jzj0480000gn/T/ipykernel_24474/2622399273.py\", line 1, in <module>\n",
      "    update_avg = alpha * curr_value + (1 - alpha) * prev_avg\n",
      "NameError: name 'alpha' is not defined\n",
      "\n",
      "During handling of the above exception, another exception occurred:\n",
      "\n",
      "Traceback (most recent call last):\n",
      "  File \"/opt/anaconda3/envs/tf15/lib/python3.7/site-packages/IPython/core/interactiveshell.py\", line 2077, in showtraceback\n",
      "    stb = value._render_traceback_()\n",
      "AttributeError: 'NameError' object has no attribute '_render_traceback_'\n",
      "\n",
      "During handling of the above exception, another exception occurred:\n",
      "\n",
      "Traceback (most recent call last):\n",
      "  File \"/opt/anaconda3/envs/tf15/lib/python3.7/site-packages/IPython/core/ultratb.py\", line 1101, in get_records\n",
      "    return _fixed_getinnerframes(etb, number_of_lines_of_context, tb_offset)\n",
      "  File \"/opt/anaconda3/envs/tf15/lib/python3.7/site-packages/IPython/core/ultratb.py\", line 248, in wrapped\n",
      "    return f(*args, **kwargs)\n",
      "  File \"/opt/anaconda3/envs/tf15/lib/python3.7/site-packages/IPython/core/ultratb.py\", line 281, in _fixed_getinnerframes\n",
      "    records = fix_frame_records_filenames(inspect.getinnerframes(etb, context))\n",
      "  File \"/opt/anaconda3/envs/tf15/lib/python3.7/inspect.py\", line 1502, in getinnerframes\n",
      "    frameinfo = (tb.tb_frame,) + getframeinfo(tb, context)\n",
      "  File \"/opt/anaconda3/envs/tf15/lib/python3.7/inspect.py\", line 1460, in getframeinfo\n",
      "    filename = getsourcefile(frame) or getfile(frame)\n",
      "  File \"/opt/anaconda3/envs/tf15/lib/python3.7/inspect.py\", line 696, in getsourcefile\n",
      "    if getattr(getmodule(object, filename), '__loader__', None) is not None:\n",
      "  File \"/opt/anaconda3/envs/tf15/lib/python3.7/inspect.py\", line 733, in getmodule\n",
      "    if ismodule(module) and hasattr(module, '__file__'):\n",
      "  File \"/opt/anaconda3/envs/tf15/lib/python3.7/site-packages/tensorflow/__init__.py\", line 50, in __getattr__\n",
      "    module = self._load()\n",
      "  File \"/opt/anaconda3/envs/tf15/lib/python3.7/site-packages/tensorflow/__init__.py\", line 44, in _load\n",
      "    module = _importlib.import_module(self.__name__)\n",
      "  File \"/opt/anaconda3/envs/tf15/lib/python3.7/importlib/__init__.py\", line 127, in import_module\n",
      "    return _bootstrap._gcd_import(name[level:], package, level)\n",
      "  File \"<frozen importlib._bootstrap>\", line 1006, in _gcd_import\n",
      "  File \"<frozen importlib._bootstrap>\", line 983, in _find_and_load\n",
      "  File \"<frozen importlib._bootstrap>\", line 965, in _find_and_load_unlocked\n",
      "ModuleNotFoundError: No module named 'tensorflow_core.estimator'\n"
     ]
    },
    {
     "name": "stderr",
     "output_type": "stream",
     "text": [
      "ERROR:root:Internal Python error in the inspect module.\n",
      "Below is the traceback from this internal error.\n",
      "\n",
      "ERROR:root:Internal Python error in the inspect module.\n",
      "Below is the traceback from this internal error.\n",
      "\n"
     ]
    },
    {
     "name": "stdout",
     "output_type": "stream",
     "text": [
      "Traceback (most recent call last):\n",
      "  File \"/opt/anaconda3/envs/tf15/lib/python3.7/site-packages/IPython/core/interactiveshell.py\", line 3457, in run_code\n",
      "    exec(code_obj, self.user_global_ns, self.user_ns)\n",
      "  File \"/var/folders/37/n9zpx2bx2qq937scr_jzj0480000gn/T/ipykernel_24474/2622399273.py\", line 1, in <module>\n",
      "    update_avg = alpha * curr_value + (1 - alpha) * prev_avg\n",
      "NameError: name 'alpha' is not defined\n",
      "\n",
      "During handling of the above exception, another exception occurred:\n",
      "\n",
      "Traceback (most recent call last):\n",
      "  File \"/opt/anaconda3/envs/tf15/lib/python3.7/site-packages/IPython/core/interactiveshell.py\", line 2077, in showtraceback\n",
      "    stb = value._render_traceback_()\n",
      "AttributeError: 'NameError' object has no attribute '_render_traceback_'\n",
      "\n",
      "During handling of the above exception, another exception occurred:\n",
      "\n",
      "Traceback (most recent call last):\n",
      "  File \"/opt/anaconda3/envs/tf15/lib/python3.7/site-packages/IPython/core/interactiveshell.py\", line 3377, in run_ast_nodes\n",
      "    if (await self.run_code(code, result,  async_=asy)):\n",
      "  File \"/opt/anaconda3/envs/tf15/lib/python3.7/site-packages/IPython/core/interactiveshell.py\", line 3474, in run_code\n",
      "    self.showtraceback(running_compiled_code=True)\n",
      "  File \"/opt/anaconda3/envs/tf15/lib/python3.7/site-packages/IPython/core/interactiveshell.py\", line 2080, in showtraceback\n",
      "    value, tb, tb_offset=tb_offset)\n",
      "  File \"/opt/anaconda3/envs/tf15/lib/python3.7/site-packages/IPython/core/ultratb.py\", line 1368, in structured_traceback\n",
      "    self, etype, value, tb, tb_offset, number_of_lines_of_context)\n",
      "  File \"/opt/anaconda3/envs/tf15/lib/python3.7/site-packages/IPython/core/ultratb.py\", line 1268, in structured_traceback\n",
      "    self, etype, value, tb, tb_offset, number_of_lines_of_context\n",
      "  File \"/opt/anaconda3/envs/tf15/lib/python3.7/site-packages/IPython/core/ultratb.py\", line 1125, in structured_traceback\n",
      "    tb_offset)\n",
      "  File \"/opt/anaconda3/envs/tf15/lib/python3.7/site-packages/IPython/core/ultratb.py\", line 1082, in format_exception_as_a_whole\n",
      "    last_unique, recursion_repeat = find_recursion(orig_etype, evalue, records)\n",
      "  File \"/opt/anaconda3/envs/tf15/lib/python3.7/site-packages/IPython/core/ultratb.py\", line 382, in find_recursion\n",
      "    return len(records), 0\n",
      "TypeError: object of type 'NoneType' has no len()\n",
      "\n",
      "During handling of the above exception, another exception occurred:\n",
      "\n",
      "Traceback (most recent call last):\n",
      "  File \"/opt/anaconda3/envs/tf15/lib/python3.7/site-packages/IPython/core/interactiveshell.py\", line 2077, in showtraceback\n",
      "    stb = value._render_traceback_()\n",
      "AttributeError: 'TypeError' object has no attribute '_render_traceback_'\n",
      "\n",
      "During handling of the above exception, another exception occurred:\n",
      "\n",
      "Traceback (most recent call last):\n",
      "  File \"/opt/anaconda3/envs/tf15/lib/python3.7/site-packages/IPython/core/ultratb.py\", line 1101, in get_records\n",
      "    return _fixed_getinnerframes(etb, number_of_lines_of_context, tb_offset)\n",
      "  File \"/opt/anaconda3/envs/tf15/lib/python3.7/site-packages/IPython/core/ultratb.py\", line 248, in wrapped\n",
      "    return f(*args, **kwargs)\n",
      "  File \"/opt/anaconda3/envs/tf15/lib/python3.7/site-packages/IPython/core/ultratb.py\", line 281, in _fixed_getinnerframes\n",
      "    records = fix_frame_records_filenames(inspect.getinnerframes(etb, context))\n",
      "  File \"/opt/anaconda3/envs/tf15/lib/python3.7/inspect.py\", line 1502, in getinnerframes\n",
      "    frameinfo = (tb.tb_frame,) + getframeinfo(tb, context)\n",
      "  File \"/opt/anaconda3/envs/tf15/lib/python3.7/inspect.py\", line 1460, in getframeinfo\n",
      "    filename = getsourcefile(frame) or getfile(frame)\n",
      "  File \"/opt/anaconda3/envs/tf15/lib/python3.7/inspect.py\", line 696, in getsourcefile\n",
      "    if getattr(getmodule(object, filename), '__loader__', None) is not None:\n",
      "  File \"/opt/anaconda3/envs/tf15/lib/python3.7/inspect.py\", line 733, in getmodule\n",
      "    if ismodule(module) and hasattr(module, '__file__'):\n",
      "  File \"/opt/anaconda3/envs/tf15/lib/python3.7/site-packages/tensorflow/__init__.py\", line 50, in __getattr__\n",
      "    module = self._load()\n",
      "  File \"/opt/anaconda3/envs/tf15/lib/python3.7/site-packages/tensorflow/__init__.py\", line 44, in _load\n",
      "    module = _importlib.import_module(self.__name__)\n",
      "  File \"/opt/anaconda3/envs/tf15/lib/python3.7/importlib/__init__.py\", line 127, in import_module\n",
      "    return _bootstrap._gcd_import(name[level:], package, level)\n",
      "  File \"<frozen importlib._bootstrap>\", line 1006, in _gcd_import\n",
      "  File \"<frozen importlib._bootstrap>\", line 983, in _find_and_load\n",
      "  File \"<frozen importlib._bootstrap>\", line 965, in _find_and_load_unlocked\n",
      "ModuleNotFoundError: No module named 'tensorflow_core.estimator'\n",
      "Traceback (most recent call last):\n",
      "  File \"/opt/anaconda3/envs/tf15/lib/python3.7/site-packages/IPython/core/interactiveshell.py\", line 3457, in run_code\n",
      "    exec(code_obj, self.user_global_ns, self.user_ns)\n",
      "  File \"/var/folders/37/n9zpx2bx2qq937scr_jzj0480000gn/T/ipykernel_24474/2622399273.py\", line 1, in <module>\n",
      "    update_avg = alpha * curr_value + (1 - alpha) * prev_avg\n",
      "NameError: name 'alpha' is not defined\n",
      "\n",
      "During handling of the above exception, another exception occurred:\n",
      "\n",
      "Traceback (most recent call last):\n",
      "  File \"/opt/anaconda3/envs/tf15/lib/python3.7/site-packages/IPython/core/interactiveshell.py\", line 2077, in showtraceback\n",
      "    stb = value._render_traceback_()\n",
      "AttributeError: 'NameError' object has no attribute '_render_traceback_'\n",
      "\n",
      "During handling of the above exception, another exception occurred:\n",
      "\n",
      "Traceback (most recent call last):\n",
      "  File \"/opt/anaconda3/envs/tf15/lib/python3.7/site-packages/IPython/core/interactiveshell.py\", line 3377, in run_ast_nodes\n",
      "    if (await self.run_code(code, result,  async_=asy)):\n",
      "  File \"/opt/anaconda3/envs/tf15/lib/python3.7/site-packages/IPython/core/interactiveshell.py\", line 3474, in run_code\n",
      "    self.showtraceback(running_compiled_code=True)\n",
      "  File \"/opt/anaconda3/envs/tf15/lib/python3.7/site-packages/IPython/core/interactiveshell.py\", line 2080, in showtraceback\n",
      "    value, tb, tb_offset=tb_offset)\n",
      "  File \"/opt/anaconda3/envs/tf15/lib/python3.7/site-packages/IPython/core/ultratb.py\", line 1368, in structured_traceback\n",
      "    self, etype, value, tb, tb_offset, number_of_lines_of_context)\n",
      "  File \"/opt/anaconda3/envs/tf15/lib/python3.7/site-packages/IPython/core/ultratb.py\", line 1268, in structured_traceback\n",
      "    self, etype, value, tb, tb_offset, number_of_lines_of_context\n",
      "  File \"/opt/anaconda3/envs/tf15/lib/python3.7/site-packages/IPython/core/ultratb.py\", line 1125, in structured_traceback\n",
      "    tb_offset)\n",
      "  File \"/opt/anaconda3/envs/tf15/lib/python3.7/site-packages/IPython/core/ultratb.py\", line 1082, in format_exception_as_a_whole\n",
      "    last_unique, recursion_repeat = find_recursion(orig_etype, evalue, records)\n",
      "  File \"/opt/anaconda3/envs/tf15/lib/python3.7/site-packages/IPython/core/ultratb.py\", line 382, in find_recursion\n",
      "    return len(records), 0\n",
      "TypeError: object of type 'NoneType' has no len()\n",
      "\n",
      "During handling of the above exception, another exception occurred:\n",
      "\n",
      "Traceback (most recent call last):\n",
      "  File \"/opt/anaconda3/envs/tf15/lib/python3.7/site-packages/IPython/core/interactiveshell.py\", line 2077, in showtraceback\n",
      "    stb = value._render_traceback_()\n",
      "AttributeError: 'TypeError' object has no attribute '_render_traceback_'\n",
      "\n",
      "During handling of the above exception, another exception occurred:\n",
      "\n",
      "Traceback (most recent call last):\n",
      "  File \"/opt/anaconda3/envs/tf15/lib/python3.7/site-packages/IPython/core/interactiveshell.py\", line 2960, in _run_cell\n",
      "    return runner(coro)\n",
      "  File \"/opt/anaconda3/envs/tf15/lib/python3.7/site-packages/IPython/core/async_helpers.py\", line 78, in _pseudo_sync_runner\n",
      "    coro.send(None)\n",
      "  File \"/opt/anaconda3/envs/tf15/lib/python3.7/site-packages/IPython/core/interactiveshell.py\", line 3186, in run_cell_async\n",
      "    interactivity=interactivity, compiler=compiler, result=result)\n",
      "  File \"/opt/anaconda3/envs/tf15/lib/python3.7/site-packages/IPython/core/interactiveshell.py\", line 3396, in run_ast_nodes\n",
      "    self.showtraceback()\n",
      "  File \"/opt/anaconda3/envs/tf15/lib/python3.7/site-packages/IPython/core/interactiveshell.py\", line 2080, in showtraceback\n",
      "    value, tb, tb_offset=tb_offset)\n",
      "  File \"/opt/anaconda3/envs/tf15/lib/python3.7/site-packages/IPython/core/ultratb.py\", line 1368, in structured_traceback\n",
      "    self, etype, value, tb, tb_offset, number_of_lines_of_context)\n",
      "  File \"/opt/anaconda3/envs/tf15/lib/python3.7/site-packages/IPython/core/ultratb.py\", line 1268, in structured_traceback\n",
      "    self, etype, value, tb, tb_offset, number_of_lines_of_context\n",
      "  File \"/opt/anaconda3/envs/tf15/lib/python3.7/site-packages/IPython/core/ultratb.py\", line 1143, in structured_traceback\n",
      "    chained_exceptions_tb_offset)\n",
      "  File \"/opt/anaconda3/envs/tf15/lib/python3.7/site-packages/IPython/core/ultratb.py\", line 1082, in format_exception_as_a_whole\n",
      "    last_unique, recursion_repeat = find_recursion(orig_etype, evalue, records)\n",
      "  File \"/opt/anaconda3/envs/tf15/lib/python3.7/site-packages/IPython/core/ultratb.py\", line 382, in find_recursion\n",
      "    return len(records), 0\n",
      "TypeError: object of type 'NoneType' has no len()\n",
      "\n",
      "During handling of the above exception, another exception occurred:\n",
      "\n",
      "Traceback (most recent call last):\n",
      "  File \"/opt/anaconda3/envs/tf15/lib/python3.7/site-packages/IPython/core/interactiveshell.py\", line 2077, in showtraceback\n",
      "    stb = value._render_traceback_()\n",
      "AttributeError: 'TypeError' object has no attribute '_render_traceback_'\n",
      "\n",
      "During handling of the above exception, another exception occurred:\n",
      "\n",
      "Traceback (most recent call last):\n",
      "  File \"/opt/anaconda3/envs/tf15/lib/python3.7/site-packages/IPython/core/ultratb.py\", line 1101, in get_records\n",
      "    return _fixed_getinnerframes(etb, number_of_lines_of_context, tb_offset)\n",
      "  File \"/opt/anaconda3/envs/tf15/lib/python3.7/site-packages/IPython/core/ultratb.py\", line 248, in wrapped\n",
      "    return f(*args, **kwargs)\n",
      "  File \"/opt/anaconda3/envs/tf15/lib/python3.7/site-packages/IPython/core/ultratb.py\", line 281, in _fixed_getinnerframes\n",
      "    records = fix_frame_records_filenames(inspect.getinnerframes(etb, context))\n",
      "  File \"/opt/anaconda3/envs/tf15/lib/python3.7/inspect.py\", line 1502, in getinnerframes\n",
      "    frameinfo = (tb.tb_frame,) + getframeinfo(tb, context)\n",
      "  File \"/opt/anaconda3/envs/tf15/lib/python3.7/inspect.py\", line 1460, in getframeinfo\n",
      "    filename = getsourcefile(frame) or getfile(frame)\n",
      "  File \"/opt/anaconda3/envs/tf15/lib/python3.7/inspect.py\", line 696, in getsourcefile\n",
      "    if getattr(getmodule(object, filename), '__loader__', None) is not None:\n",
      "  File \"/opt/anaconda3/envs/tf15/lib/python3.7/inspect.py\", line 733, in getmodule\n",
      "    if ismodule(module) and hasattr(module, '__file__'):\n",
      "  File \"/opt/anaconda3/envs/tf15/lib/python3.7/site-packages/tensorflow/__init__.py\", line 50, in __getattr__\n",
      "    module = self._load()\n",
      "  File \"/opt/anaconda3/envs/tf15/lib/python3.7/site-packages/tensorflow/__init__.py\", line 44, in _load\n",
      "    module = _importlib.import_module(self.__name__)\n",
      "  File \"/opt/anaconda3/envs/tf15/lib/python3.7/importlib/__init__.py\", line 127, in import_module\n",
      "    return _bootstrap._gcd_import(name[level:], package, level)\n",
      "  File \"<frozen importlib._bootstrap>\", line 1006, in _gcd_import\n",
      "  File \"<frozen importlib._bootstrap>\", line 983, in _find_and_load\n",
      "  File \"<frozen importlib._bootstrap>\", line 965, in _find_and_load_unlocked\n",
      "ModuleNotFoundError: No module named 'tensorflow_core.estimator'\n"
     ]
    }
   ],
   "source": [
    "update_avg = alpha * curr_value + (1 - alpha) * prev_avg"
   ]
  },
  {
   "cell_type": "code",
   "execution_count": 31,
   "id": "0cf1f755",
   "metadata": {},
   "outputs": [
    {
     "name": "stdout",
     "output_type": "stream",
     "text": [
      "WARNING:tensorflow:From /var/folders/37/n9zpx2bx2qq937scr_jzj0480000gn/T/ipykernel_24474/873876570.py:8: The name tf.placeholder is deprecated. Please use tf.compat.v1.placeholder instead.\n",
      "\n",
      "ERROR! Session/line number was not unique in"
     ]
    },
    {
     "name": "stderr",
     "output_type": "stream",
     "text": [
      "WARNING:tensorflow:From /var/folders/37/n9zpx2bx2qq937scr_jzj0480000gn/T/ipykernel_24474/873876570.py:8: The name tf.placeholder is deprecated. Please use tf.compat.v1.placeholder instead.\n",
      "\n"
     ]
    },
    {
     "name": "stdout",
     "output_type": "stream",
     "text": [
      " database. History logging moved to new session 147\n",
      "WARNING:tensorflow:From /var/folders/37/n9zpx2bx2qq937scr_jzj0480000gn/T/ipykernel_24474/873876570.py:14: The name tf.global_variables_initializer is deprecated. Please use tf.compat.v1.global_variables_initializer instead.\n",
      "\n"
     ]
    },
    {
     "name": "stderr",
     "output_type": "stream",
     "text": [
      "WARNING:tensorflow:From /var/folders/37/n9zpx2bx2qq937scr_jzj0480000gn/T/ipykernel_24474/873876570.py:14: The name tf.global_variables_initializer is deprecated. Please use tf.compat.v1.global_variables_initializer instead.\n",
      "\n"
     ]
    },
    {
     "name": "stdout",
     "output_type": "stream",
     "text": [
      "WARNING:tensorflow:From /var/folders/37/n9zpx2bx2qq937scr_jzj0480000gn/T/ipykernel_24474/873876570.py:16: The name tf.Session is deprecated. Please use tf.compat.v1.Session instead.\n",
      "\n"
     ]
    },
    {
     "name": "stderr",
     "output_type": "stream",
     "text": [
      "WARNING:tensorflow:From /var/folders/37/n9zpx2bx2qq937scr_jzj0480000gn/T/ipykernel_24474/873876570.py:16: The name tf.Session is deprecated. Please use tf.compat.v1.Session instead.\n",
      "\n"
     ]
    },
    {
     "name": "stdout",
     "output_type": "stream",
     "text": [
      "WARNING:tensorflow:From /var/folders/37/n9zpx2bx2qq937scr_jzj0480000gn/T/ipykernel_24474/873876570.py:20: The name tf.assign is deprecated. Please use tf.compat.v1.assign instead.\n",
      "\n"
     ]
    },
    {
     "name": "stderr",
     "output_type": "stream",
     "text": [
      "WARNING:tensorflow:From /var/folders/37/n9zpx2bx2qq937scr_jzj0480000gn/T/ipykernel_24474/873876570.py:20: The name tf.assign is deprecated. Please use tf.compat.v1.assign instead.\n",
      "\n"
     ]
    },
    {
     "name": "stdout",
     "output_type": "stream",
     "text": [
      "10.512296897810772 0.52561486\n",
      "8.352947695450439 0.91698146\n",
      "9.659611418285468 1.354113\n",
      "9.407887791097737 1.7568017\n",
      "9.990994339188475 2.1685114\n",
      "9.872992987727397 2.5537355\n",
      "10.320355494205751 2.9420667\n",
      "9.608721151540882 3.2753994\n",
      "10.87556484704615 3.6554077\n",
      "9.489331545975801 3.9471037\n",
      "8.240904009471786 4.1617937\n",
      "9.60318610668818 4.433863\n",
      "11.205842514700452 4.7724624\n",
      "9.350773178033997 5.001378\n",
      "8.78706622182239 5.1906624\n",
      "11.801087548869372 5.5211835\n",
      "10.887961492636366 5.789522\n",
      "11.947833315649277 6.0974374\n",
      "9.077329615344384 6.246432\n",
      "8.618283769935827 6.3650246\n",
      "10.916788883703788 6.5926127\n",
      "9.554678512602335 6.740716\n",
      "13.015991931219794 7.05448\n",
      "9.99545334134629 7.2015285\n",
      "8.306015424923135 7.256753\n",
      "8.69848457022269 7.3288393\n",
      "10.046329289660644 7.4647136\n",
      "11.128270699300305 7.6478915\n",
      "9.789894826282856 7.7549915\n",
      "10.207975496600348 7.8776407\n",
      "10.213025695627897 7.9944096\n",
      "8.162266668166952 8.002802\n",
      "11.001380554156988 8.152731\n",
      "10.415390624496942 8.265863\n",
      "9.783995675639769 8.34177\n",
      "10.356876786443385 8.442526\n",
      "10.714325687909184 8.556115\n",
      "10.193872440773578 8.638002\n",
      "12.07205375319521 8.809705\n",
      "10.689586821706168 8.903699\n",
      "10.391094580788195 8.978069\n",
      "10.731086948583444 9.06572\n",
      "10.005788619888602 9.112722\n",
      "9.706707019790574 9.142422\n",
      "11.060528538477046 9.238327\n",
      "11.552555524393632 9.354038\n",
      "9.539110848607386 9.363292\n",
      "9.921807275876331 9.391217\n",
      "11.970646448275142 9.520189\n",
      "9.900809185877607 9.539221\n",
      "9.9377848032362 9.559149\n",
      "8.559140765934593 9.509148\n",
      "8.302890535798785 9.448835\n",
      "10.973921633432461 9.52509\n",
      "9.537661066267143 9.525719\n",
      "11.056317399003449 9.602248\n",
      "9.023138622512995 9.573293\n",
      "10.730346412557967 9.6311455\n",
      "8.874018829726158 9.593288\n",
      "10.461490984733135 9.636698\n",
      "11.132497591651145 9.711487\n",
      "10.529480117475945 9.752386\n",
      "8.908708548675403 9.710202\n",
      "10.695324481690491 9.759459\n",
      "10.493163826538911 9.796144\n",
      "9.544533772136296 9.783563\n",
      "10.381397678605119 9.813454\n",
      "8.840489079798228 9.764805\n",
      "10.000002894938206 9.776565\n",
      "9.879935245895206 9.781733\n",
      "8.646114814504827 9.724951\n",
      "10.565483733343425 9.766977\n",
      "9.904701646416843 9.773864\n",
      "8.942381431676928 9.732289\n",
      "10.375936131962268 9.764472\n",
      "9.328137737428381 9.742655\n",
      "11.259773630228867 9.81851\n",
      "10.872060839564764 9.871187\n",
      "9.43012863468042 9.8491335\n",
      "9.66072433272879 9.839713\n",
      "10.959654713760068 9.895711\n",
      "9.740949439746464 9.887973\n",
      "9.110059735061126 9.849077\n",
      "10.488274529204707 9.881038\n",
      "11.784710278028326 9.976221\n",
      "8.325586515626101 9.89369\n",
      "9.957852197694667 9.896898\n",
      "10.750260877307381 9.939566\n",
      "8.79254887093551 9.882215\n",
      "8.621700455822802 9.819188\n",
      "9.376170525040862 9.797037\n",
      "11.329955633264818 9.873683\n",
      "10.492192857378631 9.904609\n",
      "9.160834812995946 9.86742\n",
      "9.17529428162553 9.832814\n",
      "10.342255884003515 9.858286\n",
      "10.040434119612618 9.8673935\n",
      "11.250412383312492 9.936544\n",
      "10.357921384885632 9.957613\n",
      "9.564212346020254 9.9379425\n"
     ]
    }
   ],
   "source": [
    "# import tensorflow as tf\n",
    "# import numpy as np\n",
    "\n",
    "raw_data = np.random.normal(10, 1, 100)\n",
    "\n",
    "alpha = tf.constant(0.05)\n",
    "\n",
    "curr_value = tf.placeholder(tf.float32)\n",
    "\n",
    "prev_avg = tf.Variable(0.)\n",
    "\n",
    "update_avg = alpha * curr_value + (1 - alpha) * prev_avg\n",
    "\n",
    "init = tf.global_variables_initializer()\n",
    "\n",
    "with tf.Session() as sess: \n",
    "    sess.run(init)\n",
    "    for i in range(len(raw_data)):\n",
    "        curr_avg = sess.run(update_avg, feed_dict={curr_value: raw_data[i]})\n",
    "        sess.run(tf.assign(prev_avg, curr_avg))\n",
    "        print(raw_data[i], curr_avg)\n",
    "\n",
    "\n",
    "\n"
   ]
  },
  {
   "cell_type": "code",
   "execution_count": 33,
   "id": "7b705ebb",
   "metadata": {},
   "outputs": [
    {
     "name": "stdout",
     "output_type": "stream",
     "text": [
      "9.920686428856621 0.49603435\n",
      "10.656846046336536 1.0040749\n",
      "9.6706001806003 1.4374012\n",
      "11.181632884612903 1.9246128\n",
      "9.072942877570684 2.2820292\n",
      "8.814118532827296 2.6086338\n",
      "10.618845445921027 3.0091443\n",
      "10.213292741605194 3.3693519\n",
      "9.623998766124583 3.6820843\n",
      "11.407827398270744 4.0683713\n",
      "8.966183795923005 4.313262\n",
      "9.733186418942699 4.5842586\n",
      "9.771331285261192 4.843612\n",
      "10.116329468963226 5.107248\n",
      "10.178218151343934 5.360796\n",
      "11.83028370332664 5.6842704\n",
      "9.197371165825688 5.8599253\n",
      "8.795761408848898 6.0067167\n",
      "8.38587564188491 6.1256747\n",
      "10.857358228159192 6.362259\n",
      "9.873333583827199 6.5378127\n",
      "11.383631608536572 6.780103\n",
      "9.45661492027889 6.9139285\n",
      "8.804224172758957 7.0084434\n",
      "9.479688026417103 7.132005\n",
      "10.090607693434436 7.2799354\n",
      "9.88017764270442 7.4099474\n",
      "8.887340884428806 7.483817\n",
      "10.066764460017323 7.6129646\n",
      "8.333014675033661 7.6489673\n",
      "9.321163296918197 7.732577\n",
      "10.964890470412982 7.894192\n",
      "11.39172977726997 8.069069\n",
      "10.53933189427868 8.192582\n",
      "8.97257727291214 8.231582\n",
      "11.466493207122204 8.393328\n",
      "8.13581122461035 8.380452\n",
      "10.145314092102296 8.468696\n",
      "10.414990243375449 8.5660095\n",
      "10.478075865617082 8.6616125\n",
      "9.526236611941599 8.7048435\n",
      "10.045415012836315 8.771872\n",
      "10.559973149780362 8.861277\n",
      "9.277184817986488 8.882072\n",
      "9.793224865824325 8.927629\n",
      "11.077280743571796 9.035112\n",
      "12.673358669396835 9.217025\n",
      "9.811405537260347 9.246743\n",
      "9.290650995836836 9.248939\n",
      "9.500441019001201 9.261514\n",
      "8.932704412111995 9.245073\n",
      "11.831602172033769 9.3744\n",
      "10.775534529851901 9.444456\n",
      "9.687149543754982 9.456591\n",
      "8.904597346420056 9.42899\n",
      "9.910230510205018 9.4530525\n",
      "10.170812422646325 9.488941\n",
      "12.10641025190691 9.619815\n",
      "10.725828401517143 9.675116\n",
      "9.669765584829754 9.674848\n",
      "9.462715138540808 9.664241\n",
      "11.062179729078574 9.734138\n",
      "10.857786924343664 9.79032\n",
      "10.952458045960862 9.848427\n",
      "9.826934738771852 9.847352\n",
      "10.03341590943631 9.856655\n",
      "11.582442869571066 9.942945\n",
      "9.151613046137566 9.903378\n",
      "9.777019948950805 9.897059\n",
      "10.900350570003583 9.947224\n",
      "10.122418371752357 9.955983\n",
      "9.907276129283137 9.953548\n",
      "8.688405078397018 9.890291\n",
      "10.500672633730453 9.920811\n",
      "10.969439057466593 9.973243\n",
      "10.25626250928805 9.987394\n",
      "9.760741735942206 9.976062\n",
      "10.00392427156289 9.977455\n",
      "7.814305107087 9.869298\n",
      "10.683569336913704 9.910011\n",
      "9.340322957679968 9.881527\n",
      "9.66505934412032 9.870703\n",
      "11.244687821877637 9.939402\n",
      "8.51308059553123 9.868086\n",
      "10.349344551072873 9.892149\n",
      "11.224114584543482 9.958747\n",
      "9.706692184987318 9.946144\n",
      "11.002677779665959 9.99897\n",
      "9.06976333799277 9.95251\n",
      "9.62531672286241 9.936151\n",
      "10.082420473065715 9.943463\n",
      "10.178312578929113 9.955206\n",
      "10.510482491294436 9.982969\n",
      "8.92389641963711 9.930016\n",
      "9.84442992096367 9.925736\n",
      "9.412724189803162 9.900085\n",
      "10.13174765286328 9.911668\n",
      "9.402640324720911 9.886216\n",
      "9.879683925417618 9.885889\n",
      "9.176308990255048 9.85041\n"
     ]
    }
   ],
   "source": [
    "# import tensorflow as tf\n",
    "# import numpy as np\n",
    "\n",
    "\n",
    "\n",
    "\n",
    "raw_data = np.random.normal(10, 1, 100)\n",
    "\n",
    "alpha = tf.constant(0.05)\n",
    "curr_value = tf.placeholder(tf.float32)\n",
    "prev_avg = tf.Variable(0.)\n",
    "update_avg = alpha * curr_value + (1 - alpha) * prev_avg\n",
    "\n",
    "init = tf.global_variables_initializer()\n",
    "\n",
    "with tf.Session() as sess:\n",
    "    sess.run(init)\n",
    "    for i in range(len(raw_data)):\n",
    "        curr_avg = sess.run(update_avg, feed_dict={curr_value: raw_data[i]}) \n",
    "        sess.run(tf.assign(prev_avg, curr_avg))\n",
    "        print(raw_data[i], curr_avg)\n",
    "\n"
   ]
  },
  {
   "cell_type": "code",
   "execution_count": null,
   "id": "25434819",
   "metadata": {},
   "outputs": [
    {
     "name": "stderr",
     "output_type": "stream",
     "text": [
      "ERROR:root:Internal Python error in the inspect module.\n",
      "Below is the traceback from this internal error.\n",
      "\n",
      "ERROR:root:Internal Python error in the inspect module.\n",
      "Below is the traceback from this internal error.\n",
      "\n",
      "ERROR:root:Internal Python error in the inspect module.\n",
      "Below is the traceback from this internal error.\n",
      "\n"
     ]
    },
    {
     "name": "stdout",
     "output_type": "stream",
     "text": [
      "Traceback (most recent call last):\n",
      "  File \"/opt/anaconda3/envs/tf15/lib/python3.7/site-packages/tensorflow_core/python/framework/tensor_util.py\", line 541, in make_tensor_proto\n",
      "    str_values = [compat.as_bytes(x) for x in proto_values]\n",
      "  File \"/opt/anaconda3/envs/tf15/lib/python3.7/site-packages/tensorflow_core/python/framework/tensor_util.py\", line 541, in <listcomp>\n",
      "    str_values = [compat.as_bytes(x) for x in proto_values]\n",
      "  File \"/opt/anaconda3/envs/tf15/lib/python3.7/site-packages/tensorflow_core/python/util/compat.py\", line 71, in as_bytes\n",
      "    (bytes_or_text,))\n",
      "TypeError: Expected binary or unicode string, got Ellipsis\n",
      "\n",
      "During handling of the above exception, another exception occurred:\n",
      "\n",
      "Traceback (most recent call last):\n",
      "  File \"/opt/anaconda3/envs/tf15/lib/python3.7/site-packages/IPython/core/interactiveshell.py\", line 3457, in run_code\n",
      "    exec(code_obj, self.user_global_ns, self.user_ns)\n",
      "  File \"/var/folders/37/n9zpx2bx2qq937scr_jzj0480000gn/T/ipykernel_24474/3758384942.py\", line 2, in <module>\n",
      "    cost = tf.reduce_sum(...)\n",
      "  File \"/opt/anaconda3/envs/tf15/lib/python3.7/site-packages/tensorflow_core/python/util/deprecation.py\", line 507, in new_func\n",
      "    return func(*args, **kwargs)\n",
      "  File \"/opt/anaconda3/envs/tf15/lib/python3.7/site-packages/tensorflow_core/python/ops/math_ops.py\", line 1516, in reduce_sum_v1\n",
      "    return reduce_sum(input_tensor, axis, keepdims, name)\n",
      "  File \"/opt/anaconda3/envs/tf15/lib/python3.7/site-packages/tensorflow_core/python/util/dispatch.py\", line 180, in wrapper\n",
      "    return target(*args, **kwargs)\n",
      "  File \"/opt/anaconda3/envs/tf15/lib/python3.7/site-packages/tensorflow_core/python/ops/math_ops.py\", line 1563, in reduce_sum\n",
      "    input_tensor, _ReductionDims(input_tensor, axis), keepdims,\n",
      "  File \"/opt/anaconda3/envs/tf15/lib/python3.7/site-packages/tensorflow_core/python/ops/math_ops.py\", line 1451, in _ReductionDims\n",
      "    return range(0, array_ops.rank(x))\n",
      "  File \"/opt/anaconda3/envs/tf15/lib/python3.7/site-packages/tensorflow_core/python/util/dispatch.py\", line 180, in wrapper\n",
      "    return target(*args, **kwargs)\n",
      "  File \"/opt/anaconda3/envs/tf15/lib/python3.7/site-packages/tensorflow_core/python/ops/array_ops.py\", line 606, in rank\n",
      "    return rank_internal(input, name, optimize=True)\n",
      "  File \"/opt/anaconda3/envs/tf15/lib/python3.7/site-packages/tensorflow_core/python/ops/array_ops.py\", line 626, in rank_internal\n",
      "    input_tensor = ops.convert_to_tensor(input)\n",
      "  File \"/opt/anaconda3/envs/tf15/lib/python3.7/site-packages/tensorflow_core/python/framework/ops.py\", line 1184, in convert_to_tensor\n",
      "    return convert_to_tensor_v2(value, dtype, preferred_dtype, name)\n",
      "  File \"/opt/anaconda3/envs/tf15/lib/python3.7/site-packages/tensorflow_core/python/framework/ops.py\", line 1242, in convert_to_tensor_v2\n",
      "    as_ref=False)\n",
      "  File \"/opt/anaconda3/envs/tf15/lib/python3.7/site-packages/tensorflow_core/python/framework/ops.py\", line 1297, in internal_convert_to_tensor\n",
      "    ret = conversion_func(value, dtype=dtype, name=name, as_ref=as_ref)\n",
      "  File \"/opt/anaconda3/envs/tf15/lib/python3.7/site-packages/tensorflow_core/python/framework/constant_op.py\", line 286, in _constant_tensor_conversion_function\n",
      "    return constant(v, dtype=dtype, name=name)\n",
      "  File \"/opt/anaconda3/envs/tf15/lib/python3.7/site-packages/tensorflow_core/python/framework/constant_op.py\", line 227, in constant\n",
      "    allow_broadcast=True)\n",
      "  File \"/opt/anaconda3/envs/tf15/lib/python3.7/site-packages/tensorflow_core/python/framework/constant_op.py\", line 265, in _constant_impl\n",
      "    allow_broadcast=allow_broadcast))\n",
      "  File \"/opt/anaconda3/envs/tf15/lib/python3.7/site-packages/tensorflow_core/python/framework/tensor_util.py\", line 545, in make_tensor_proto\n",
      "    \"supported type.\" % (type(values), values))\n",
      "TypeError: Failed to convert object of type <class 'ellipsis'> to Tensor. Contents: Ellipsis. Consider casting elements to a supported type.\n",
      "\n",
      "During handling of the above exception, another exception occurred:\n",
      "\n",
      "Traceback (most recent call last):\n",
      "  File \"/opt/anaconda3/envs/tf15/lib/python3.7/site-packages/IPython/core/interactiveshell.py\", line 2077, in showtraceback\n",
      "    stb = value._render_traceback_()\n",
      "AttributeError: 'TypeError' object has no attribute '_render_traceback_'\n",
      "\n",
      "During handling of the above exception, another exception occurred:\n",
      "\n",
      "Traceback (most recent call last):\n",
      "  File \"/opt/anaconda3/envs/tf15/lib/python3.7/site-packages/IPython/core/ultratb.py\", line 1101, in get_records\n",
      "    return _fixed_getinnerframes(etb, number_of_lines_of_context, tb_offset)\n",
      "  File \"/opt/anaconda3/envs/tf15/lib/python3.7/site-packages/IPython/core/ultratb.py\", line 248, in wrapped\n",
      "    return f(*args, **kwargs)\n",
      "  File \"/opt/anaconda3/envs/tf15/lib/python3.7/site-packages/IPython/core/ultratb.py\", line 281, in _fixed_getinnerframes\n",
      "    records = fix_frame_records_filenames(inspect.getinnerframes(etb, context))\n",
      "  File \"/opt/anaconda3/envs/tf15/lib/python3.7/inspect.py\", line 1502, in getinnerframes\n",
      "    frameinfo = (tb.tb_frame,) + getframeinfo(tb, context)\n",
      "  File \"/opt/anaconda3/envs/tf15/lib/python3.7/inspect.py\", line 1460, in getframeinfo\n",
      "    filename = getsourcefile(frame) or getfile(frame)\n",
      "  File \"/opt/anaconda3/envs/tf15/lib/python3.7/inspect.py\", line 696, in getsourcefile\n",
      "    if getattr(getmodule(object, filename), '__loader__', None) is not None:\n",
      "  File \"/opt/anaconda3/envs/tf15/lib/python3.7/inspect.py\", line 733, in getmodule\n",
      "    if ismodule(module) and hasattr(module, '__file__'):\n",
      "  File \"/opt/anaconda3/envs/tf15/lib/python3.7/site-packages/tensorflow/__init__.py\", line 50, in __getattr__\n",
      "    module = self._load()\n",
      "  File \"/opt/anaconda3/envs/tf15/lib/python3.7/site-packages/tensorflow/__init__.py\", line 44, in _load\n",
      "    module = _importlib.import_module(self.__name__)\n",
      "  File \"/opt/anaconda3/envs/tf15/lib/python3.7/importlib/__init__.py\", line 127, in import_module\n",
      "    return _bootstrap._gcd_import(name[level:], package, level)\n",
      "  File \"<frozen importlib._bootstrap>\", line 1006, in _gcd_import\n",
      "  File \"<frozen importlib._bootstrap>\", line 983, in _find_and_load\n",
      "  File \"<frozen importlib._bootstrap>\", line 965, in _find_and_load_unlocked\n",
      "ModuleNotFoundError: No module named 'tensorflow_core.estimator'\n",
      "Traceback (most recent call last):\n",
      "  File \"/opt/anaconda3/envs/tf15/lib/python3.7/site-packages/tensorflow_core/python/framework/tensor_util.py\", line 541, in make_tensor_proto\n",
      "    str_values = [compat.as_bytes(x) for x in proto_values]\n",
      "  File \"/opt/anaconda3/envs/tf15/lib/python3.7/site-packages/tensorflow_core/python/framework/tensor_util.py\", line 541, in <listcomp>\n",
      "    str_values = [compat.as_bytes(x) for x in proto_values]\n",
      "  File \"/opt/anaconda3/envs/tf15/lib/python3.7/site-packages/tensorflow_core/python/util/compat.py\", line 71, in as_bytes\n",
      "    (bytes_or_text,))\n",
      "TypeError: Expected binary or unicode string, got Ellipsis\n",
      "\n",
      "During handling of the above exception, another exception occurred:\n",
      "\n",
      "Traceback (most recent call last):\n",
      "  File \"/opt/anaconda3/envs/tf15/lib/python3.7/site-packages/IPython/core/interactiveshell.py\", line 3457, in run_code\n",
      "    exec(code_obj, self.user_global_ns, self.user_ns)\n",
      "  File \"/var/folders/37/n9zpx2bx2qq937scr_jzj0480000gn/T/ipykernel_24474/3758384942.py\", line 2, in <module>\n",
      "    cost = tf.reduce_sum(...)\n",
      "  File \"/opt/anaconda3/envs/tf15/lib/python3.7/site-packages/tensorflow_core/python/util/deprecation.py\", line 507, in new_func\n",
      "    return func(*args, **kwargs)\n",
      "  File \"/opt/anaconda3/envs/tf15/lib/python3.7/site-packages/tensorflow_core/python/ops/math_ops.py\", line 1516, in reduce_sum_v1\n",
      "    return reduce_sum(input_tensor, axis, keepdims, name)\n",
      "  File \"/opt/anaconda3/envs/tf15/lib/python3.7/site-packages/tensorflow_core/python/util/dispatch.py\", line 180, in wrapper\n",
      "    return target(*args, **kwargs)\n",
      "  File \"/opt/anaconda3/envs/tf15/lib/python3.7/site-packages/tensorflow_core/python/ops/math_ops.py\", line 1563, in reduce_sum\n",
      "    input_tensor, _ReductionDims(input_tensor, axis), keepdims,\n",
      "  File \"/opt/anaconda3/envs/tf15/lib/python3.7/site-packages/tensorflow_core/python/ops/math_ops.py\", line 1451, in _ReductionDims\n",
      "    return range(0, array_ops.rank(x))\n",
      "  File \"/opt/anaconda3/envs/tf15/lib/python3.7/site-packages/tensorflow_core/python/util/dispatch.py\", line 180, in wrapper\n",
      "    return target(*args, **kwargs)\n",
      "  File \"/opt/anaconda3/envs/tf15/lib/python3.7/site-packages/tensorflow_core/python/ops/array_ops.py\", line 606, in rank\n",
      "    return rank_internal(input, name, optimize=True)\n",
      "  File \"/opt/anaconda3/envs/tf15/lib/python3.7/site-packages/tensorflow_core/python/ops/array_ops.py\", line 626, in rank_internal\n",
      "    input_tensor = ops.convert_to_tensor(input)\n",
      "  File \"/opt/anaconda3/envs/tf15/lib/python3.7/site-packages/tensorflow_core/python/framework/ops.py\", line 1184, in convert_to_tensor\n",
      "    return convert_to_tensor_v2(value, dtype, preferred_dtype, name)\n",
      "  File \"/opt/anaconda3/envs/tf15/lib/python3.7/site-packages/tensorflow_core/python/framework/ops.py\", line 1242, in convert_to_tensor_v2\n",
      "    as_ref=False)\n",
      "  File \"/opt/anaconda3/envs/tf15/lib/python3.7/site-packages/tensorflow_core/python/framework/ops.py\", line 1297, in internal_convert_to_tensor\n",
      "    ret = conversion_func(value, dtype=dtype, name=name, as_ref=as_ref)\n",
      "  File \"/opt/anaconda3/envs/tf15/lib/python3.7/site-packages/tensorflow_core/python/framework/constant_op.py\", line 286, in _constant_tensor_conversion_function\n",
      "    return constant(v, dtype=dtype, name=name)\n",
      "  File \"/opt/anaconda3/envs/tf15/lib/python3.7/site-packages/tensorflow_core/python/framework/constant_op.py\", line 227, in constant\n",
      "    allow_broadcast=True)\n",
      "  File \"/opt/anaconda3/envs/tf15/lib/python3.7/site-packages/tensorflow_core/python/framework/constant_op.py\", line 265, in _constant_impl\n",
      "    allow_broadcast=allow_broadcast))\n",
      "  File \"/opt/anaconda3/envs/tf15/lib/python3.7/site-packages/tensorflow_core/python/framework/tensor_util.py\", line 545, in make_tensor_proto\n",
      "    \"supported type.\" % (type(values), values))\n",
      "TypeError: Failed to convert object of type <class 'ellipsis'> to Tensor. Contents: Ellipsis. Consider casting elements to a supported type.\n",
      "\n",
      "During handling of the above exception, another exception occurred:\n",
      "\n",
      "Traceback (most recent call last):\n",
      "  File \"/opt/anaconda3/envs/tf15/lib/python3.7/site-packages/IPython/core/interactiveshell.py\", line 2077, in showtraceback\n",
      "    stb = value._render_traceback_()\n",
      "AttributeError: 'TypeError' object has no attribute '_render_traceback_'\n",
      "\n",
      "During handling of the above exception, another exception occurred:\n",
      "\n",
      "Traceback (most recent call last):\n",
      "  File \"/opt/anaconda3/envs/tf15/lib/python3.7/site-packages/IPython/core/interactiveshell.py\", line 3377, in run_ast_nodes\n",
      "    if (await self.run_code(code, result,  async_=asy)):\n",
      "  File \"/opt/anaconda3/envs/tf15/lib/python3.7/site-packages/IPython/core/interactiveshell.py\", line 3474, in run_code\n",
      "    self.showtraceback(running_compiled_code=True)\n",
      "  File \"/opt/anaconda3/envs/tf15/lib/python3.7/site-packages/IPython/core/interactiveshell.py\", line 2080, in showtraceback\n",
      "    value, tb, tb_offset=tb_offset)\n",
      "  File \"/opt/anaconda3/envs/tf15/lib/python3.7/site-packages/IPython/core/ultratb.py\", line 1368, in structured_traceback\n",
      "    self, etype, value, tb, tb_offset, number_of_lines_of_context)\n",
      "  File \"/opt/anaconda3/envs/tf15/lib/python3.7/site-packages/IPython/core/ultratb.py\", line 1268, in structured_traceback\n",
      "    self, etype, value, tb, tb_offset, number_of_lines_of_context\n",
      "  File \"/opt/anaconda3/envs/tf15/lib/python3.7/site-packages/IPython/core/ultratb.py\", line 1125, in structured_traceback\n",
      "    tb_offset)\n",
      "  File \"/opt/anaconda3/envs/tf15/lib/python3.7/site-packages/IPython/core/ultratb.py\", line 1082, in format_exception_as_a_whole\n",
      "    last_unique, recursion_repeat = find_recursion(orig_etype, evalue, records)\n",
      "  File \"/opt/anaconda3/envs/tf15/lib/python3.7/site-packages/IPython/core/ultratb.py\", line 382, in find_recursion\n",
      "    return len(records), 0\n",
      "TypeError: object of type 'NoneType' has no len()\n",
      "\n",
      "During handling of the above exception, another exception occurred:\n",
      "\n",
      "Traceback (most recent call last):\n",
      "  File \"/opt/anaconda3/envs/tf15/lib/python3.7/site-packages/IPython/core/interactiveshell.py\", line 2077, in showtraceback\n",
      "    stb = value._render_traceback_()\n",
      "AttributeError: 'TypeError' object has no attribute '_render_traceback_'\n",
      "\n",
      "During handling of the above exception, another exception occurred:\n",
      "\n",
      "Traceback (most recent call last):\n",
      "  File \"/opt/anaconda3/envs/tf15/lib/python3.7/site-packages/IPython/core/ultratb.py\", line 1101, in get_records\n",
      "    return _fixed_getinnerframes(etb, number_of_lines_of_context, tb_offset)\n",
      "  File \"/opt/anaconda3/envs/tf15/lib/python3.7/site-packages/IPython/core/ultratb.py\", line 248, in wrapped\n",
      "    return f(*args, **kwargs)\n",
      "  File \"/opt/anaconda3/envs/tf15/lib/python3.7/site-packages/IPython/core/ultratb.py\", line 281, in _fixed_getinnerframes\n",
      "    records = fix_frame_records_filenames(inspect.getinnerframes(etb, context))\n",
      "  File \"/opt/anaconda3/envs/tf15/lib/python3.7/inspect.py\", line 1502, in getinnerframes\n",
      "    frameinfo = (tb.tb_frame,) + getframeinfo(tb, context)\n",
      "  File \"/opt/anaconda3/envs/tf15/lib/python3.7/inspect.py\", line 1460, in getframeinfo\n",
      "    filename = getsourcefile(frame) or getfile(frame)\n",
      "  File \"/opt/anaconda3/envs/tf15/lib/python3.7/inspect.py\", line 696, in getsourcefile\n",
      "    if getattr(getmodule(object, filename), '__loader__', None) is not None:\n",
      "  File \"/opt/anaconda3/envs/tf15/lib/python3.7/inspect.py\", line 733, in getmodule\n",
      "    if ismodule(module) and hasattr(module, '__file__'):\n",
      "  File \"/opt/anaconda3/envs/tf15/lib/python3.7/site-packages/tensorflow/__init__.py\", line 50, in __getattr__\n",
      "    module = self._load()\n",
      "  File \"/opt/anaconda3/envs/tf15/lib/python3.7/site-packages/tensorflow/__init__.py\", line 44, in _load\n",
      "    module = _importlib.import_module(self.__name__)\n",
      "  File \"/opt/anaconda3/envs/tf15/lib/python3.7/importlib/__init__.py\", line 127, in import_module\n",
      "    return _bootstrap._gcd_import(name[level:], package, level)\n",
      "  File \"<frozen importlib._bootstrap>\", line 1006, in _gcd_import\n",
      "  File \"<frozen importlib._bootstrap>\", line 983, in _find_and_load\n",
      "  File \"<frozen importlib._bootstrap>\", line 965, in _find_and_load_unlocked\n",
      "ModuleNotFoundError: No module named 'tensorflow_core.estimator'\n",
      "Traceback (most recent call last):\n",
      "  File \"/opt/anaconda3/envs/tf15/lib/python3.7/site-packages/tensorflow_core/python/framework/tensor_util.py\", line 541, in make_tensor_proto\n",
      "    str_values = [compat.as_bytes(x) for x in proto_values]\n",
      "  File \"/opt/anaconda3/envs/tf15/lib/python3.7/site-packages/tensorflow_core/python/framework/tensor_util.py\", line 541, in <listcomp>\n",
      "    str_values = [compat.as_bytes(x) for x in proto_values]\n",
      "  File \"/opt/anaconda3/envs/tf15/lib/python3.7/site-packages/tensorflow_core/python/util/compat.py\", line 71, in as_bytes\n",
      "    (bytes_or_text,))\n",
      "TypeError: Expected binary or unicode string, got Ellipsis\n",
      "\n",
      "During handling of the above exception, another exception occurred:\n",
      "\n",
      "Traceback (most recent call last):\n",
      "  File \"/opt/anaconda3/envs/tf15/lib/python3.7/site-packages/IPython/core/interactiveshell.py\", line 3457, in run_code\n",
      "    exec(code_obj, self.user_global_ns, self.user_ns)\n",
      "  File \"/var/folders/37/n9zpx2bx2qq937scr_jzj0480000gn/T/ipykernel_24474/3758384942.py\", line 2, in <module>\n",
      "    cost = tf.reduce_sum(...)\n",
      "  File \"/opt/anaconda3/envs/tf15/lib/python3.7/site-packages/tensorflow_core/python/util/deprecation.py\", line 507, in new_func\n",
      "    return func(*args, **kwargs)\n",
      "  File \"/opt/anaconda3/envs/tf15/lib/python3.7/site-packages/tensorflow_core/python/ops/math_ops.py\", line 1516, in reduce_sum_v1\n",
      "    return reduce_sum(input_tensor, axis, keepdims, name)\n",
      "  File \"/opt/anaconda3/envs/tf15/lib/python3.7/site-packages/tensorflow_core/python/util/dispatch.py\", line 180, in wrapper\n",
      "    return target(*args, **kwargs)\n",
      "  File \"/opt/anaconda3/envs/tf15/lib/python3.7/site-packages/tensorflow_core/python/ops/math_ops.py\", line 1563, in reduce_sum\n",
      "    input_tensor, _ReductionDims(input_tensor, axis), keepdims,\n",
      "  File \"/opt/anaconda3/envs/tf15/lib/python3.7/site-packages/tensorflow_core/python/ops/math_ops.py\", line 1451, in _ReductionDims\n",
      "    return range(0, array_ops.rank(x))\n",
      "  File \"/opt/anaconda3/envs/tf15/lib/python3.7/site-packages/tensorflow_core/python/util/dispatch.py\", line 180, in wrapper\n",
      "    return target(*args, **kwargs)\n",
      "  File \"/opt/anaconda3/envs/tf15/lib/python3.7/site-packages/tensorflow_core/python/ops/array_ops.py\", line 606, in rank\n",
      "    return rank_internal(input, name, optimize=True)\n",
      "  File \"/opt/anaconda3/envs/tf15/lib/python3.7/site-packages/tensorflow_core/python/ops/array_ops.py\", line 626, in rank_internal\n",
      "    input_tensor = ops.convert_to_tensor(input)\n",
      "  File \"/opt/anaconda3/envs/tf15/lib/python3.7/site-packages/tensorflow_core/python/framework/ops.py\", line 1184, in convert_to_tensor\n",
      "    return convert_to_tensor_v2(value, dtype, preferred_dtype, name)\n",
      "  File \"/opt/anaconda3/envs/tf15/lib/python3.7/site-packages/tensorflow_core/python/framework/ops.py\", line 1242, in convert_to_tensor_v2\n",
      "    as_ref=False)\n",
      "  File \"/opt/anaconda3/envs/tf15/lib/python3.7/site-packages/tensorflow_core/python/framework/ops.py\", line 1297, in internal_convert_to_tensor\n",
      "    ret = conversion_func(value, dtype=dtype, name=name, as_ref=as_ref)\n",
      "  File \"/opt/anaconda3/envs/tf15/lib/python3.7/site-packages/tensorflow_core/python/framework/constant_op.py\", line 286, in _constant_tensor_conversion_function\n",
      "    return constant(v, dtype=dtype, name=name)\n",
      "  File \"/opt/anaconda3/envs/tf15/lib/python3.7/site-packages/tensorflow_core/python/framework/constant_op.py\", line 227, in constant\n",
      "    allow_broadcast=True)\n",
      "  File \"/opt/anaconda3/envs/tf15/lib/python3.7/site-packages/tensorflow_core/python/framework/constant_op.py\", line 265, in _constant_impl\n",
      "    allow_broadcast=allow_broadcast))\n",
      "  File \"/opt/anaconda3/envs/tf15/lib/python3.7/site-packages/tensorflow_core/python/framework/tensor_util.py\", line 545, in make_tensor_proto\n",
      "    \"supported type.\" % (type(values), values))\n",
      "TypeError: Failed to convert object of type <class 'ellipsis'> to Tensor. Contents: Ellipsis. Consider casting elements to a supported type.\n",
      "\n",
      "During handling of the above exception, another exception occurred:\n",
      "\n",
      "Traceback (most recent call last):\n",
      "  File \"/opt/anaconda3/envs/tf15/lib/python3.7/site-packages/IPython/core/interactiveshell.py\", line 2077, in showtraceback\n",
      "    stb = value._render_traceback_()\n",
      "AttributeError: 'TypeError' object has no attribute '_render_traceback_'\n",
      "\n",
      "During handling of the above exception, another exception occurred:\n",
      "\n",
      "Traceback (most recent call last):\n",
      "  File \"/opt/anaconda3/envs/tf15/lib/python3.7/site-packages/IPython/core/interactiveshell.py\", line 3377, in run_ast_nodes\n",
      "    if (await self.run_code(code, result,  async_=asy)):\n",
      "  File \"/opt/anaconda3/envs/tf15/lib/python3.7/site-packages/IPython/core/interactiveshell.py\", line 3474, in run_code\n",
      "    self.showtraceback(running_compiled_code=True)\n",
      "  File \"/opt/anaconda3/envs/tf15/lib/python3.7/site-packages/IPython/core/interactiveshell.py\", line 2080, in showtraceback\n",
      "    value, tb, tb_offset=tb_offset)\n",
      "  File \"/opt/anaconda3/envs/tf15/lib/python3.7/site-packages/IPython/core/ultratb.py\", line 1368, in structured_traceback\n",
      "    self, etype, value, tb, tb_offset, number_of_lines_of_context)\n",
      "  File \"/opt/anaconda3/envs/tf15/lib/python3.7/site-packages/IPython/core/ultratb.py\", line 1268, in structured_traceback\n",
      "    self, etype, value, tb, tb_offset, number_of_lines_of_context\n",
      "  File \"/opt/anaconda3/envs/tf15/lib/python3.7/site-packages/IPython/core/ultratb.py\", line 1125, in structured_traceback\n",
      "    tb_offset)\n",
      "  File \"/opt/anaconda3/envs/tf15/lib/python3.7/site-packages/IPython/core/ultratb.py\", line 1082, in format_exception_as_a_whole\n",
      "    last_unique, recursion_repeat = find_recursion(orig_etype, evalue, records)\n",
      "  File \"/opt/anaconda3/envs/tf15/lib/python3.7/site-packages/IPython/core/ultratb.py\", line 382, in find_recursion\n",
      "    return len(records), 0\n",
      "TypeError: object of type 'NoneType' has no len()\n",
      "\n",
      "During handling of the above exception, another exception occurred:\n",
      "\n",
      "Traceback (most recent call last):\n",
      "  File \"/opt/anaconda3/envs/tf15/lib/python3.7/site-packages/IPython/core/interactiveshell.py\", line 2077, in showtraceback\n",
      "    stb = value._render_traceback_()\n",
      "AttributeError: 'TypeError' object has no attribute '_render_traceback_'\n",
      "\n",
      "During handling of the above exception, another exception occurred:\n",
      "\n",
      "Traceback (most recent call last):\n",
      "  File \"/opt/anaconda3/envs/tf15/lib/python3.7/site-packages/IPython/core/interactiveshell.py\", line 2960, in _run_cell\n",
      "    return runner(coro)\n",
      "  File \"/opt/anaconda3/envs/tf15/lib/python3.7/site-packages/IPython/core/async_helpers.py\", line 78, in _pseudo_sync_runner\n",
      "    coro.send(None)\n",
      "  File \"/opt/anaconda3/envs/tf15/lib/python3.7/site-packages/IPython/core/interactiveshell.py\", line 3186, in run_cell_async\n",
      "    interactivity=interactivity, compiler=compiler, result=result)\n",
      "  File \"/opt/anaconda3/envs/tf15/lib/python3.7/site-packages/IPython/core/interactiveshell.py\", line 3396, in run_ast_nodes\n",
      "    self.showtraceback()\n",
      "  File \"/opt/anaconda3/envs/tf15/lib/python3.7/site-packages/IPython/core/interactiveshell.py\", line 2080, in showtraceback\n",
      "    value, tb, tb_offset=tb_offset)\n",
      "  File \"/opt/anaconda3/envs/tf15/lib/python3.7/site-packages/IPython/core/ultratb.py\", line 1368, in structured_traceback\n",
      "    self, etype, value, tb, tb_offset, number_of_lines_of_context)\n",
      "  File \"/opt/anaconda3/envs/tf15/lib/python3.7/site-packages/IPython/core/ultratb.py\", line 1268, in structured_traceback\n",
      "    self, etype, value, tb, tb_offset, number_of_lines_of_context\n",
      "  File \"/opt/anaconda3/envs/tf15/lib/python3.7/site-packages/IPython/core/ultratb.py\", line 1143, in structured_traceback\n",
      "    chained_exceptions_tb_offset)\n",
      "  File \"/opt/anaconda3/envs/tf15/lib/python3.7/site-packages/IPython/core/ultratb.py\", line 1082, in format_exception_as_a_whole\n",
      "    last_unique, recursion_repeat = find_recursion(orig_etype, evalue, records)\n",
      "  File \"/opt/anaconda3/envs/tf15/lib/python3.7/site-packages/IPython/core/ultratb.py\", line 382, in find_recursion\n",
      "    return len(records), 0\n",
      "TypeError: object of type 'NoneType' has no len()\n",
      "\n",
      "During handling of the above exception, another exception occurred:\n",
      "\n",
      "Traceback (most recent call last):\n",
      "  File \"/opt/anaconda3/envs/tf15/lib/python3.7/site-packages/IPython/core/interactiveshell.py\", line 2077, in showtraceback\n",
      "    stb = value._render_traceback_()\n",
      "AttributeError: 'TypeError' object has no attribute '_render_traceback_'\n",
      "\n",
      "During handling of the above exception, another exception occurred:\n",
      "\n",
      "Traceback (most recent call last):\n",
      "  File \"/opt/anaconda3/envs/tf15/lib/python3.7/site-packages/IPython/core/ultratb.py\", line 1101, in get_records\n",
      "    return _fixed_getinnerframes(etb, number_of_lines_of_context, tb_offset)\n",
      "  File \"/opt/anaconda3/envs/tf15/lib/python3.7/site-packages/IPython/core/ultratb.py\", line 248, in wrapped\n",
      "    return f(*args, **kwargs)\n",
      "  File \"/opt/anaconda3/envs/tf15/lib/python3.7/site-packages/IPython/core/ultratb.py\", line 281, in _fixed_getinnerframes\n",
      "    records = fix_frame_records_filenames(inspect.getinnerframes(etb, context))\n",
      "  File \"/opt/anaconda3/envs/tf15/lib/python3.7/inspect.py\", line 1502, in getinnerframes\n",
      "    frameinfo = (tb.tb_frame,) + getframeinfo(tb, context)\n",
      "  File \"/opt/anaconda3/envs/tf15/lib/python3.7/inspect.py\", line 1460, in getframeinfo\n",
      "    filename = getsourcefile(frame) or getfile(frame)\n",
      "  File \"/opt/anaconda3/envs/tf15/lib/python3.7/inspect.py\", line 696, in getsourcefile\n",
      "    if getattr(getmodule(object, filename), '__loader__', None) is not None:\n",
      "  File \"/opt/anaconda3/envs/tf15/lib/python3.7/inspect.py\", line 733, in getmodule\n",
      "    if ismodule(module) and hasattr(module, '__file__'):\n",
      "  File \"/opt/anaconda3/envs/tf15/lib/python3.7/site-packages/tensorflow/__init__.py\", line 50, in __getattr__\n",
      "    module = self._load()\n",
      "  File \"/opt/anaconda3/envs/tf15/lib/python3.7/site-packages/tensorflow/__init__.py\", line 44, in _load\n",
      "    module = _importlib.import_module(self.__name__)\n",
      "  File \"/opt/anaconda3/envs/tf15/lib/python3.7/importlib/__init__.py\", line 127, in import_module\n",
      "    return _bootstrap._gcd_import(name[level:], package, level)\n",
      "  File \"<frozen importlib._bootstrap>\", line 1006, in _gcd_import\n",
      "  File \"<frozen importlib._bootstrap>\", line 983, in _find_and_load\n",
      "  File \"<frozen importlib._bootstrap>\", line 965, in _find_and_load_unlocked\n",
      "ModuleNotFoundError: No module named 'tensorflow_core.estimator'\n"
     ]
    }
   ],
   "source": [
    "\n",
    "img = tf.placeholder(tf.float32, [None, None, None, 3]) \n",
    "cost = tf.reduce_sum(...)\n",
    "my_img_summary = tf.summary.image(\"img\", img)\n",
    "my_cost_summary = tf.summary.scalar(\"cost\", cost)"
   ]
  },
  {
   "cell_type": "code",
   "execution_count": null,
   "id": "ab8b8b5e",
   "metadata": {},
   "outputs": [],
   "source": [
    "# import tensorflow as tf\n",
    "import tensorflow.compat.v1 as tf\n",
    "import numpy as np\n",
    "from time import time"
   ]
  },
  {
   "cell_type": "code",
   "execution_count": null,
   "id": "a95b482b",
   "metadata": {},
   "outputs": [],
   "source": []
  }
 ],
 "metadata": {
  "kernelspec": {
   "display_name": "Python 3 (ipykernel)",
   "language": "python",
   "name": "python3"
  },
  "language_info": {
   "codemirror_mode": {
    "name": "ipython",
    "version": 3
   },
   "file_extension": ".py",
   "mimetype": "text/x-python",
   "name": "python",
   "nbconvert_exporter": "python",
   "pygments_lexer": "ipython3",
   "version": "3.7.11"
  }
 },
 "nbformat": 4,
 "nbformat_minor": 5
}
