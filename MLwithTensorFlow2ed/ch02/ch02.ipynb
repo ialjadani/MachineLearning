{
 "cells": [
  {
   "cell_type": "code",
   "execution_count": null,
   "id": "cb6b91d2",
   "metadata": {},
   "outputs": [],
   "source": []
  },
  {
   "cell_type": "code",
   "execution_count": 1,
   "id": "f2f52a8c",
   "metadata": {},
   "outputs": [],
   "source": [
    "import numpy as np\n",
    "from random import sample\n",
    "import tensorflow as tf\n"
   ]
  },
  {
   "cell_type": "code",
   "execution_count": 2,
   "id": "1311b203",
   "metadata": {},
   "outputs": [
    {
     "name": "stdout",
     "output_type": "stream",
     "text": [
      "1.15.0\n"
     ]
    }
   ],
   "source": [
    "print(tf.__version__)"
   ]
  },
  {
   "cell_type": "code",
   "execution_count": 3,
   "id": "fb8c49d2",
   "metadata": {},
   "outputs": [
    {
     "name": "stdout",
     "output_type": "stream",
     "text": [
      "1.15.0\n"
     ]
    }
   ],
   "source": [
    "print(tf.version.VERSION)"
   ]
  },
  {
   "cell_type": "code",
   "execution_count": 4,
   "id": "a24d1545",
   "metadata": {},
   "outputs": [
    {
     "name": "stdout",
     "output_type": "stream",
     "text": [
      "\u001b[31mERROR: Could not find a version that satisfies the requirement tensorflow==1\u001b[0m\r\n",
      "\u001b[31mERROR: No matching distribution found for tensorflow==1\u001b[0m\r\n"
     ]
    }
   ],
   "source": [
    "!pip install tensorflow==1"
   ]
  },
  {
   "cell_type": "code",
   "execution_count": null,
   "id": "0c75432a",
   "metadata": {},
   "outputs": [],
   "source": []
  },
  {
   "cell_type": "code",
   "execution_count": null,
   "id": "2a2f5d22",
   "metadata": {},
   "outputs": [],
   "source": []
  },
  {
   "cell_type": "code",
   "execution_count": null,
   "id": "c01870cb",
   "metadata": {},
   "outputs": [],
   "source": []
  },
  {
   "cell_type": "code",
   "execution_count": 5,
   "id": "7b4fb0c4",
   "metadata": {},
   "outputs": [],
   "source": [
    "revenue = 0\n",
    "prices = np.random.uniform(0, 10000.0, size=(100))\n",
    "amounts = sample(range(1,101), 100)"
   ]
  },
  {
   "cell_type": "code",
   "execution_count": 6,
   "id": "a02385e3",
   "metadata": {},
   "outputs": [],
   "source": [
    "revenue = np.dot(prices, amounts)"
   ]
  },
  {
   "cell_type": "code",
   "execution_count": 7,
   "id": "97d4a893",
   "metadata": {},
   "outputs": [],
   "source": [
    "for price, amount in zip(prices, amounts):\n",
    "    revenue += price * amount"
   ]
  },
  {
   "cell_type": "code",
   "execution_count": 8,
   "id": "a80c763b",
   "metadata": {},
   "outputs": [],
   "source": [
    "revenue2 = np.dot(prices,amounts)"
   ]
  },
  {
   "cell_type": "code",
   "execution_count": 9,
   "id": "f630223f",
   "metadata": {},
   "outputs": [
    {
     "name": "stdout",
     "output_type": "stream",
     "text": [
      "$48,029,926.48\n",
      "$24,014,963.24\n"
     ]
    }
   ],
   "source": [
    "print('${:,.2f}'.format(revenue))\n",
    "print('${:,.2f}'.format(revenue2))"
   ]
  },
  {
   "cell_type": "code",
   "execution_count": null,
   "id": "9b2cc083",
   "metadata": {},
   "outputs": [],
   "source": []
  },
  {
   "cell_type": "code",
   "execution_count": 10,
   "id": "54765f26",
   "metadata": {},
   "outputs": [],
   "source": [
    "import tensorflow as tf\n",
    "import numpy as np"
   ]
  },
  {
   "cell_type": "code",
   "execution_count": 11,
   "id": "3d8b29e2",
   "metadata": {},
   "outputs": [],
   "source": [
    "m1 = [[1.0, 2.0],\n",
    "      [3.0, 4.0]]"
   ]
  },
  {
   "cell_type": "code",
   "execution_count": 12,
   "id": "4bd88994",
   "metadata": {},
   "outputs": [],
   "source": [
    "m2 = np.array([[1.0, 2.0],\n",
    "               [3.0, 4.0]], dtype=np.float32)"
   ]
  },
  {
   "cell_type": "code",
   "execution_count": 13,
   "id": "25d34461",
   "metadata": {},
   "outputs": [],
   "source": [
    "m3 = tf.constant([[1.0, 2.0],\n",
    "                  [3.0, 4.0]])"
   ]
  },
  {
   "cell_type": "code",
   "execution_count": 14,
   "id": "c09a4160",
   "metadata": {},
   "outputs": [
    {
     "name": "stdout",
     "output_type": "stream",
     "text": [
      "<class 'list'>\n",
      "<class 'numpy.ndarray'>\n",
      "<class 'tensorflow.python.framework.ops.Tensor'>\n"
     ]
    }
   ],
   "source": [
    "print(type(m1))\n",
    "print(type(m2))\n",
    "print(type(m3))"
   ]
  },
  {
   "cell_type": "code",
   "execution_count": 15,
   "id": "7d4cb91c",
   "metadata": {},
   "outputs": [],
   "source": [
    "t1 = tf.convert_to_tensor(m1, dtype=tf.float32)\n",
    "t2 = tf.convert_to_tensor(m2, dtype=tf.float32)\n",
    "t3 = tf.convert_to_tensor(m3, dtype=tf.float32)"
   ]
  },
  {
   "cell_type": "code",
   "execution_count": 16,
   "id": "4d42722a",
   "metadata": {},
   "outputs": [
    {
     "name": "stdout",
     "output_type": "stream",
     "text": [
      "<class 'tensorflow.python.framework.ops.Tensor'>\n",
      "<class 'tensorflow.python.framework.ops.Tensor'>\n",
      "<class 'tensorflow.python.framework.ops.Tensor'>\n"
     ]
    }
   ],
   "source": [
    "print(type(t1))\n",
    "print(type(t2))\n",
    "print(type(t3))"
   ]
  },
  {
   "cell_type": "code",
   "execution_count": 17,
   "id": "e141e441",
   "metadata": {},
   "outputs": [],
   "source": [
    "m1 = tf.constant([[1.,2.]])\n",
    "m2 = tf.constant([[1],[2]])\n",
    "\n",
    "m3 = tf.constant([  [[1,2],\n",
    "                     [3,4],\n",
    "                     [5,6]],\n",
    "                     [[7,8],\n",
    "                     [9,10],\n",
    "                     [11,12]]\n",
    "                    ])"
   ]
  },
  {
   "cell_type": "code",
   "execution_count": 18,
   "id": "2fc4dd47",
   "metadata": {},
   "outputs": [
    {
     "name": "stdout",
     "output_type": "stream",
     "text": [
      "Tensor(\"Const_3:0\", shape=(1, 2), dtype=float32)\n"
     ]
    }
   ],
   "source": [
    "print(m1)"
   ]
  },
  {
   "cell_type": "code",
   "execution_count": 19,
   "id": "2a82d7fc",
   "metadata": {},
   "outputs": [
    {
     "name": "stdout",
     "output_type": "stream",
     "text": [
      "Tensor(\"Const_4:0\", shape=(2, 1), dtype=int32)\n"
     ]
    }
   ],
   "source": [
    "print(m2)"
   ]
  },
  {
   "cell_type": "code",
   "execution_count": 20,
   "id": "c436a96c",
   "metadata": {},
   "outputs": [
    {
     "name": "stdout",
     "output_type": "stream",
     "text": [
      "Tensor(\"Const_5:0\", shape=(2, 3, 2), dtype=int32)\n"
     ]
    }
   ],
   "source": [
    "print(m3)"
   ]
  },
  {
   "cell_type": "code",
   "execution_count": 21,
   "id": "0ab45b4c",
   "metadata": {},
   "outputs": [
    {
     "name": "stdout",
     "output_type": "stream",
     "text": [
      "Tensor(\"Neg:0\", shape=(1, 2), dtype=int32)\n"
     ]
    }
   ],
   "source": [
    "x = tf.constant([[1, 2]])\n",
    "negMatrix = tf.negative(x)\n",
    "print(negMatrix)"
   ]
  },
  {
   "cell_type": "code",
   "execution_count": 22,
   "id": "2125e238",
   "metadata": {},
   "outputs": [
    {
     "name": "stdout",
     "output_type": "stream",
     "text": [
      "Tensor(\"Neg_1:0\", shape=(1, 2), dtype=float32)\n"
     ]
    }
   ],
   "source": [
    "negMatrix = tf.negative(m1)\n",
    "print(negMatrix)"
   ]
  },
  {
   "cell_type": "code",
   "execution_count": 23,
   "id": "43b52a8a",
   "metadata": {},
   "outputs": [
    {
     "name": "stderr",
     "output_type": "stream",
     "text": [
      "2022-03-01 17:01:28.322857: I tensorflow/core/platform/cpu_feature_guard.cc:145] This TensorFlow binary is optimized with Intel(R) MKL-DNN to use the following CPU instructions in performance critical operations:  SSE4.1 SSE4.2 AVX AVX2 FMA\n",
      "To enable them in non-MKL-DNN operations, rebuild TensorFlow with the appropriate compiler flags.\n",
      "2022-03-01 17:01:28.323238: I tensorflow/core/common_runtime/process_util.cc:115] Creating new thread pool with default inter op setting: 4. Tune using inter_op_parallelism_threads for best performance.\n"
     ]
    }
   ],
   "source": [
    "with tf.compat.v1.Session() as sess:\n",
    "    result = sess.run(negMatrix)"
   ]
  },
  {
   "cell_type": "code",
   "execution_count": 24,
   "id": "9f8d2334",
   "metadata": {},
   "outputs": [
    {
     "name": "stdout",
     "output_type": "stream",
     "text": [
      "[[-1. -2.]]\n"
     ]
    }
   ],
   "source": [
    "print(result)"
   ]
  },
  {
   "cell_type": "code",
   "execution_count": null,
   "id": "66db0cb6",
   "metadata": {},
   "outputs": [],
   "source": []
  },
  {
   "cell_type": "code",
   "execution_count": null,
   "id": "1ad70032",
   "metadata": {},
   "outputs": [],
   "source": []
  },
  {
   "cell_type": "code",
   "execution_count": null,
   "id": "501b3160",
   "metadata": {},
   "outputs": [],
   "source": []
  },
  {
   "cell_type": "code",
   "execution_count": null,
   "id": "e4a3588f",
   "metadata": {},
   "outputs": [],
   "source": []
  },
  {
   "cell_type": "code",
   "execution_count": null,
   "id": "20ccf816",
   "metadata": {},
   "outputs": [],
   "source": []
  },
  {
   "cell_type": "code",
   "execution_count": null,
   "id": "4cbeca14",
   "metadata": {},
   "outputs": [],
   "source": []
  }
 ],
 "metadata": {
  "kernelspec": {
   "display_name": "Python 3 (ipykernel)",
   "language": "python",
   "name": "python3"
  },
  "language_info": {
   "codemirror_mode": {
    "name": "ipython",
    "version": 3
   },
   "file_extension": ".py",
   "mimetype": "text/x-python",
   "name": "python",
   "nbconvert_exporter": "python",
   "pygments_lexer": "ipython3",
   "version": "3.7.11"
  }
 },
 "nbformat": 4,
 "nbformat_minor": 5
}
